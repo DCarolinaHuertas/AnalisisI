{
  "nbformat": 4,
  "nbformat_minor": 0,
  "metadata": {
    "colab": {
      "provenance": [],
      "include_colab_link": true
    },
    "kernelspec": {
      "name": "python3",
      "display_name": "Python 3"
    },
    "language_info": {
      "name": "python"
    }
  },
  "cells": [
    {
      "cell_type": "markdown",
      "metadata": {
        "id": "view-in-github",
        "colab_type": "text"
      },
      "source": [
        "<a href=\"https://colab.research.google.com/github/DCarolinaHuertas/AnalisisI/blob/circleci-project-setup/NotebookAvance1.ipynb\" target=\"_parent\"><img src=\"https://colab.research.google.com/assets/colab-badge.svg\" alt=\"Open In Colab\"/></a>"
      ]
    },
    {
      "cell_type": "markdown",
      "source": [
        "# ***Descargar Dataset desde kaggle***"
      ],
      "metadata": {
        "id": "yKw-jnFCJJTL"
      }
    },
    {
      "cell_type": "code",
      "source": [
        "!pip install kaggle"
      ],
      "metadata": {
        "id": "OHtfJnDYEGII",
        "colab": {
          "base_uri": "https://localhost:8080/"
        },
        "outputId": "16885ba6-3ca9-48a8-b5a4-90fb934af5b4"
      },
      "execution_count": null,
      "outputs": [
        {
          "output_type": "stream",
          "name": "stdout",
          "text": [
            "Looking in indexes: https://pypi.org/simple, https://us-python.pkg.dev/colab-wheels/public/simple/\n",
            "Requirement already satisfied: kaggle in /usr/local/lib/python3.9/dist-packages (1.5.13)\n",
            "Requirement already satisfied: python-dateutil in /usr/local/lib/python3.9/dist-packages (from kaggle) (2.8.2)\n",
            "Requirement already satisfied: six>=1.10 in /usr/local/lib/python3.9/dist-packages (from kaggle) (1.16.0)\n",
            "Requirement already satisfied: tqdm in /usr/local/lib/python3.9/dist-packages (from kaggle) (4.65.0)\n",
            "Requirement already satisfied: requests in /usr/local/lib/python3.9/dist-packages (from kaggle) (2.27.1)\n",
            "Requirement already satisfied: certifi in /usr/local/lib/python3.9/dist-packages (from kaggle) (2022.12.7)\n",
            "Requirement already satisfied: urllib3 in /usr/local/lib/python3.9/dist-packages (from kaggle) (1.26.15)\n",
            "Requirement already satisfied: python-slugify in /usr/local/lib/python3.9/dist-packages (from kaggle) (8.0.1)\n",
            "Requirement already satisfied: text-unidecode>=1.3 in /usr/local/lib/python3.9/dist-packages (from python-slugify->kaggle) (1.3)\n",
            "Requirement already satisfied: charset-normalizer~=2.0.0 in /usr/local/lib/python3.9/dist-packages (from requests->kaggle) (2.0.12)\n",
            "Requirement already satisfied: idna<4,>=2.5 in /usr/local/lib/python3.9/dist-packages (from requests->kaggle) (3.4)\n"
          ]
        }
      ]
    },
    {
      "cell_type": "code",
      "source": [
        "from google.colab import files \n",
        "files.upload()"
      ],
      "metadata": {
        "id": "pBjukZe4FbKb",
        "colab": {
          "base_uri": "https://localhost:8080/",
          "height": 90
        },
        "outputId": "0ff15e8a-6dd1-4bbd-a62c-f592a98d7fa8"
      },
      "execution_count": null,
      "outputs": [
        {
          "output_type": "display_data",
          "data": {
            "text/plain": [
              "<IPython.core.display.HTML object>"
            ],
            "text/html": [
              "\n",
              "     <input type=\"file\" id=\"files-739db4ca-9712-490f-9b44-54df6b81c57d\" name=\"files[]\" multiple disabled\n",
              "        style=\"border:none\" />\n",
              "     <output id=\"result-739db4ca-9712-490f-9b44-54df6b81c57d\">\n",
              "      Upload widget is only available when the cell has been executed in the\n",
              "      current browser session. Please rerun this cell to enable.\n",
              "      </output>\n",
              "      <script>// Copyright 2017 Google LLC\n",
              "//\n",
              "// Licensed under the Apache License, Version 2.0 (the \"License\");\n",
              "// you may not use this file except in compliance with the License.\n",
              "// You may obtain a copy of the License at\n",
              "//\n",
              "//      http://www.apache.org/licenses/LICENSE-2.0\n",
              "//\n",
              "// Unless required by applicable law or agreed to in writing, software\n",
              "// distributed under the License is distributed on an \"AS IS\" BASIS,\n",
              "// WITHOUT WARRANTIES OR CONDITIONS OF ANY KIND, either express or implied.\n",
              "// See the License for the specific language governing permissions and\n",
              "// limitations under the License.\n",
              "\n",
              "/**\n",
              " * @fileoverview Helpers for google.colab Python module.\n",
              " */\n",
              "(function(scope) {\n",
              "function span(text, styleAttributes = {}) {\n",
              "  const element = document.createElement('span');\n",
              "  element.textContent = text;\n",
              "  for (const key of Object.keys(styleAttributes)) {\n",
              "    element.style[key] = styleAttributes[key];\n",
              "  }\n",
              "  return element;\n",
              "}\n",
              "\n",
              "// Max number of bytes which will be uploaded at a time.\n",
              "const MAX_PAYLOAD_SIZE = 100 * 1024;\n",
              "\n",
              "function _uploadFiles(inputId, outputId) {\n",
              "  const steps = uploadFilesStep(inputId, outputId);\n",
              "  const outputElement = document.getElementById(outputId);\n",
              "  // Cache steps on the outputElement to make it available for the next call\n",
              "  // to uploadFilesContinue from Python.\n",
              "  outputElement.steps = steps;\n",
              "\n",
              "  return _uploadFilesContinue(outputId);\n",
              "}\n",
              "\n",
              "// This is roughly an async generator (not supported in the browser yet),\n",
              "// where there are multiple asynchronous steps and the Python side is going\n",
              "// to poll for completion of each step.\n",
              "// This uses a Promise to block the python side on completion of each step,\n",
              "// then passes the result of the previous step as the input to the next step.\n",
              "function _uploadFilesContinue(outputId) {\n",
              "  const outputElement = document.getElementById(outputId);\n",
              "  const steps = outputElement.steps;\n",
              "\n",
              "  const next = steps.next(outputElement.lastPromiseValue);\n",
              "  return Promise.resolve(next.value.promise).then((value) => {\n",
              "    // Cache the last promise value to make it available to the next\n",
              "    // step of the generator.\n",
              "    outputElement.lastPromiseValue = value;\n",
              "    return next.value.response;\n",
              "  });\n",
              "}\n",
              "\n",
              "/**\n",
              " * Generator function which is called between each async step of the upload\n",
              " * process.\n",
              " * @param {string} inputId Element ID of the input file picker element.\n",
              " * @param {string} outputId Element ID of the output display.\n",
              " * @return {!Iterable<!Object>} Iterable of next steps.\n",
              " */\n",
              "function* uploadFilesStep(inputId, outputId) {\n",
              "  const inputElement = document.getElementById(inputId);\n",
              "  inputElement.disabled = false;\n",
              "\n",
              "  const outputElement = document.getElementById(outputId);\n",
              "  outputElement.innerHTML = '';\n",
              "\n",
              "  const pickedPromise = new Promise((resolve) => {\n",
              "    inputElement.addEventListener('change', (e) => {\n",
              "      resolve(e.target.files);\n",
              "    });\n",
              "  });\n",
              "\n",
              "  const cancel = document.createElement('button');\n",
              "  inputElement.parentElement.appendChild(cancel);\n",
              "  cancel.textContent = 'Cancel upload';\n",
              "  const cancelPromise = new Promise((resolve) => {\n",
              "    cancel.onclick = () => {\n",
              "      resolve(null);\n",
              "    };\n",
              "  });\n",
              "\n",
              "  // Wait for the user to pick the files.\n",
              "  const files = yield {\n",
              "    promise: Promise.race([pickedPromise, cancelPromise]),\n",
              "    response: {\n",
              "      action: 'starting',\n",
              "    }\n",
              "  };\n",
              "\n",
              "  cancel.remove();\n",
              "\n",
              "  // Disable the input element since further picks are not allowed.\n",
              "  inputElement.disabled = true;\n",
              "\n",
              "  if (!files) {\n",
              "    return {\n",
              "      response: {\n",
              "        action: 'complete',\n",
              "      }\n",
              "    };\n",
              "  }\n",
              "\n",
              "  for (const file of files) {\n",
              "    const li = document.createElement('li');\n",
              "    li.append(span(file.name, {fontWeight: 'bold'}));\n",
              "    li.append(span(\n",
              "        `(${file.type || 'n/a'}) - ${file.size} bytes, ` +\n",
              "        `last modified: ${\n",
              "            file.lastModifiedDate ? file.lastModifiedDate.toLocaleDateString() :\n",
              "                                    'n/a'} - `));\n",
              "    const percent = span('0% done');\n",
              "    li.appendChild(percent);\n",
              "\n",
              "    outputElement.appendChild(li);\n",
              "\n",
              "    const fileDataPromise = new Promise((resolve) => {\n",
              "      const reader = new FileReader();\n",
              "      reader.onload = (e) => {\n",
              "        resolve(e.target.result);\n",
              "      };\n",
              "      reader.readAsArrayBuffer(file);\n",
              "    });\n",
              "    // Wait for the data to be ready.\n",
              "    let fileData = yield {\n",
              "      promise: fileDataPromise,\n",
              "      response: {\n",
              "        action: 'continue',\n",
              "      }\n",
              "    };\n",
              "\n",
              "    // Use a chunked sending to avoid message size limits. See b/62115660.\n",
              "    let position = 0;\n",
              "    do {\n",
              "      const length = Math.min(fileData.byteLength - position, MAX_PAYLOAD_SIZE);\n",
              "      const chunk = new Uint8Array(fileData, position, length);\n",
              "      position += length;\n",
              "\n",
              "      const base64 = btoa(String.fromCharCode.apply(null, chunk));\n",
              "      yield {\n",
              "        response: {\n",
              "          action: 'append',\n",
              "          file: file.name,\n",
              "          data: base64,\n",
              "        },\n",
              "      };\n",
              "\n",
              "      let percentDone = fileData.byteLength === 0 ?\n",
              "          100 :\n",
              "          Math.round((position / fileData.byteLength) * 100);\n",
              "      percent.textContent = `${percentDone}% done`;\n",
              "\n",
              "    } while (position < fileData.byteLength);\n",
              "  }\n",
              "\n",
              "  // All done.\n",
              "  yield {\n",
              "    response: {\n",
              "      action: 'complete',\n",
              "    }\n",
              "  };\n",
              "}\n",
              "\n",
              "scope.google = scope.google || {};\n",
              "scope.google.colab = scope.google.colab || {};\n",
              "scope.google.colab._files = {\n",
              "  _uploadFiles,\n",
              "  _uploadFilesContinue,\n",
              "};\n",
              "})(self);\n",
              "</script> "
            ]
          },
          "metadata": {}
        },
        {
          "output_type": "stream",
          "name": "stdout",
          "text": [
            "Saving kaggle.json to kaggle.json\n"
          ]
        },
        {
          "output_type": "execute_result",
          "data": {
            "text/plain": [
              "{'kaggle.json': b'{\"username\":\"jhondbv\",\"key\":\"1ccdc0bb3f7677e8897e6434c2a09254\"}'}"
            ]
          },
          "metadata": {},
          "execution_count": 2
        }
      ]
    },
    {
      "cell_type": "code",
      "source": [
        "! mkdir ~/.kaggle"
      ],
      "metadata": {
        "id": "H4o7PxdVGhXj"
      },
      "execution_count": null,
      "outputs": []
    },
    {
      "cell_type": "code",
      "source": [
        "! cp kaggle.json ~/.kaggle/"
      ],
      "metadata": {
        "id": "wT8Usj-GGnN_"
      },
      "execution_count": null,
      "outputs": []
    },
    {
      "cell_type": "code",
      "source": [
        "! chmod 600 ~/.kaggle/kaggle.json"
      ],
      "metadata": {
        "id": "1lAX0zaxGzmz"
      },
      "execution_count": null,
      "outputs": []
    },
    {
      "cell_type": "code",
      "source": [
        "! kaggle datasets download 'rounakbanik/the-movies-dataset'"
      ],
      "metadata": {
        "id": "Bskbr8kHG-RR",
        "colab": {
          "base_uri": "https://localhost:8080/"
        },
        "outputId": "c624c04e-542c-4c96-b980-c69facaf618b"
      },
      "execution_count": null,
      "outputs": [
        {
          "output_type": "stream",
          "name": "stdout",
          "text": [
            "Downloading the-movies-dataset.zip to /content\n",
            " 95% 217M/228M [00:01<00:00, 144MB/s]\n",
            "100% 228M/228M [00:01<00:00, 131MB/s]\n"
          ]
        }
      ]
    },
    {
      "cell_type": "code",
      "source": [
        "! unzip the-movies-dataset.zip"
      ],
      "metadata": {
        "id": "53EMwBlNHg_l",
        "colab": {
          "base_uri": "https://localhost:8080/"
        },
        "outputId": "ab656a8d-e008-4b62-eebe-0aaddfc2a190"
      },
      "execution_count": null,
      "outputs": [
        {
          "output_type": "stream",
          "name": "stdout",
          "text": [
            "Archive:  the-movies-dataset.zip\n",
            "  inflating: credits.csv             \n",
            "  inflating: keywords.csv            \n",
            "  inflating: links.csv               \n",
            "  inflating: links_small.csv         \n",
            "  inflating: movies_metadata.csv     \n",
            "  inflating: ratings.csv             \n",
            "  inflating: ratings_small.csv       \n"
          ]
        }
      ]
    },
    {
      "cell_type": "code",
      "source": [
        "! rm the-movies-dataset.zip\n",
        "! rm kaggle.json"
      ],
      "metadata": {
        "id": "aIFhzuLoIB-b"
      },
      "execution_count": null,
      "outputs": []
    },
    {
      "cell_type": "markdown",
      "source": [
        "# **Analisis DataSet**"
      ],
      "metadata": {
        "id": "YBDj1Y05V5Rv"
      }
    },
    {
      "cell_type": "code",
      "source": [
        "!pip install scikit-surprise"
      ],
      "metadata": {
        "colab": {
          "base_uri": "https://localhost:8080/"
        },
        "id": "cBO3PJQDV-uO",
        "outputId": "b4aa3d67-c01a-4b57-ee99-73b42342ce3d"
      },
      "execution_count": null,
      "outputs": [
        {
          "output_type": "stream",
          "name": "stdout",
          "text": [
            "Looking in indexes: https://pypi.org/simple, https://us-python.pkg.dev/colab-wheels/public/simple/\n",
            "Requirement already satisfied: scikit-surprise in /usr/local/lib/python3.9/dist-packages (1.1.3)\n",
            "Requirement already satisfied: joblib>=1.0.0 in /usr/local/lib/python3.9/dist-packages (from scikit-surprise) (1.2.0)\n",
            "Requirement already satisfied: scipy>=1.3.2 in /usr/local/lib/python3.9/dist-packages (from scikit-surprise) (1.10.1)\n",
            "Requirement already satisfied: numpy>=1.17.3 in /usr/local/lib/python3.9/dist-packages (from scikit-surprise) (1.22.4)\n"
          ]
        }
      ]
    },
    {
      "cell_type": "code",
      "source": [
        "import pandas as pd\n",
        "import numpy as np"
      ],
      "metadata": {
        "id": "a0Pg_c6bWGXA"
      },
      "execution_count": null,
      "outputs": []
    },
    {
      "cell_type": "code",
      "source": [
        "# Crear dataset de movies y ratings \n",
        "\n",
        "movies = pd.read_csv('movies_metadata.csv')\n",
        "ratings = pd.read_csv('ratings_small.csv')\n",
        "links = pd.read_csv('links.csv')"
      ],
      "metadata": {
        "colab": {
          "base_uri": "https://localhost:8080/"
        },
        "id": "NYgyf6WqWULk",
        "outputId": "34c6dc54-74bc-4cf0-b552-ccd358a46f89"
      },
      "execution_count": null,
      "outputs": [
        {
          "output_type": "stream",
          "name": "stderr",
          "text": [
            "<ipython-input-110-b574db498c16>:3: DtypeWarning:\n",
            "\n",
            "Columns (10) have mixed types. Specify dtype option on import or set low_memory=False.\n",
            "\n"
          ]
        }
      ]
    },
    {
      "cell_type": "markdown",
      "source": [
        "Para escoger un correcto algoritmo se debe explorar los datos , para eso se hace un analisis basico de los datos para saber como estan distribuidos "
      ],
      "metadata": {
        "id": "hOyTXgPjNJdU"
      }
    },
    {
      "cell_type": "code",
      "source": [
        "import seaborn as sns\n",
        "from plotly.offline import init_notebook_mode, iplot\n",
        "import plotly.graph_objs as go\n",
        "import matplotlib.pyplot as plt\n",
        "init_notebook_mode(connected=True)\n",
        "#Analisando ratings  , cuantos datos unicos hay en cada columna \n",
        "\n",
        "\n",
        "print(\"GRAPHIC\")\n",
        "print(\"============\"*8)\n",
        "\n",
        "ratings_graphic = ratings.drop(\"timestamp\",axis=1)\n",
        "ax = sns.barplot(x=ratings_graphic.columns,y=ratings_graphic.nunique(axis=0),palette=\"Blues_d\")\n",
        "for p in ax.patches:\n",
        "  ax.annotate( str(p.get_height().astype(int)), \n",
        "                (p.get_x() + p.get_width() / 2., p.get_height()), \n",
        "                ha = 'center', va = 'center', \n",
        "                xytext = (0, 5), \n",
        "                textcoords = 'offset points')\n",
        "plt.show()\n",
        "\n",
        "print(\"============\"*8)\n",
        "print(\"INFORMATION\")\n",
        "print(\"============\"*8)\n",
        "print(ratings.info())\n",
        "print(\"============\"*8) \n",
        "print(\"UNIQUE DATA\")\n",
        "print(\"============\"*8)\n",
        "print(ratings.nunique(axis=0))\n",
        "print(\"============\"*8)\n"
      ],
      "metadata": {
        "colab": {
          "base_uri": "https://localhost:8080/",
          "height": 881
        },
        "id": "CXu2gUU9XGFX",
        "outputId": "b10bb077-9f2c-4a17-a97d-9de9729fec94"
      },
      "execution_count": null,
      "outputs": [
        {
          "output_type": "display_data",
          "data": {
            "text/html": [
              "        <script type=\"text/javascript\">\n",
              "        window.PlotlyConfig = {MathJaxConfig: 'local'};\n",
              "        if (window.MathJax && window.MathJax.Hub && window.MathJax.Hub.Config) {window.MathJax.Hub.Config({SVG: {font: \"STIX-Web\"}});}\n",
              "        if (typeof require !== 'undefined') {\n",
              "        require.undef(\"plotly\");\n",
              "        requirejs.config({\n",
              "            paths: {\n",
              "                'plotly': ['https://cdn.plot.ly/plotly-2.18.2.min']\n",
              "            }\n",
              "        });\n",
              "        require(['plotly'], function(Plotly) {\n",
              "            window._Plotly = Plotly;\n",
              "        });\n",
              "        }\n",
              "        </script>\n",
              "        "
            ]
          },
          "metadata": {}
        },
        {
          "output_type": "stream",
          "name": "stdout",
          "text": [
            "GRAPHIC\n",
            "================================================================================================\n"
          ]
        },
        {
          "output_type": "display_data",
          "data": {
            "text/plain": [
              "<Figure size 640x480 with 1 Axes>"
            ],
            "image/png": "[encoded data removed]"
          },
          "metadata": {}
        },
        {
          "output_type": "stream",
          "name": "stdout",
          "text": [
            "================================================================================================\n",
            "INFORMATION\n",
            "================================================================================================\n",
            "<class 'pandas.core.frame.DataFrame'>\n",
            "RangeIndex: 100004 entries, 0 to 100003\n",
            "Data columns (total 4 columns):\n",
            " #   Column     Non-Null Count   Dtype  \n",
            "---  ------     --------------   -----  \n",
            " 0   userId     100004 non-null  int64  \n",
            " 1   movieId    100004 non-null  int64  \n",
            " 2   rating     100004 non-null  float64\n",
            " 3   timestamp  100004 non-null  int64  \n",
            "dtypes: float64(1), int64(3)\n",
            "memory usage: 3.1 MB\n",
            "None\n",
            "================================================================================================\n",
            "UNIQUE DATA\n",
            "================================================================================================\n",
            "userId         671\n",
            "movieId       9066\n",
            "rating          10\n",
            "timestamp    78141\n",
            "dtype: int64\n",
            "================================================================================================\n"
          ]
        }
      ]
    },
    {
      "cell_type": "markdown",
      "source": [
        "Que peliculas tienen mas reviews ?\n",
        "\n",
        "Que usuarios dan mas reviews ?\n",
        "\n",
        "como luce la distribucion para ratings ?"
      ],
      "metadata": {
        "id": "iMTc0hmwNdwx"
      }
    },
    {
      "cell_type": "code",
      "source": [
        "plt.figure(1,figsize=(16,4))\n",
        "plt.title(\"MOVIES\")\n",
        "j =ratings[\"movieId\"].value_counts()[:50].plot(kind='bar') #toma las primeras 50 peliculas \n",
        "p = j.patches[0]\n",
        "j.annotate( str(p.get_height().astype(int)), \n",
        "              (p.get_x() + p.get_width() / 2., p.get_height()), \n",
        "              ha = 'center', va = 'center', \n",
        "              xytext = (2, 4), \n",
        "              textcoords = 'offset points')\n",
        "plt.show()\n",
        "\n",
        "\n",
        "plt.figure(2,figsize=(16,4))\n",
        "plt.title(\"USERS\")\n",
        "j= ratings[\"userId\"].value_counts()[:50].plot(kind='bar') #toma los primeros 50 usuarios\n",
        "\n",
        "p = j.patches[0]\n",
        "j.annotate( str(p.get_height().astype(int)), \n",
        "              (p.get_x() + p.get_width() / 2., p.get_height()), \n",
        "              ha = 'center', va = 'center', \n",
        "              xytext = (5, 4), \n",
        "              textcoords = 'offset points')\n",
        "plt.show()\n",
        "\n",
        "# plt.figure(3,figsize=(8,4))\n",
        "# plt.title(\"DISTRIBUTION\")\n",
        "# j = ratings[\"rating\"].plot(kind='hist') #Distribucion de ratings  \n",
        "# p = j.patches[0]\n",
        "# j.annotate( str(p.get_height().astype(int)), \n",
        "#               (p.get_x() + p.get_width() / 2., p.get_height()), \n",
        "#               ha = 'center', va = 'center', \n",
        "#               xytext = (5, 4), \n",
        "#               textcoords = 'offset points')\n",
        "# plt.show()\n",
        "\n",
        "data = ratings['rating'].value_counts().sort_index(ascending=False)\n",
        "\n",
        "# Create the trace data\n",
        "trace = go.Bar(x = data.index,\n",
        "               text = ['{:.1f} %'.format(val) for val in (data.values / ratings.shape[0] * 100)],\n",
        "               textposition = 'auto',\n",
        "               textfont = dict(color = '#000000'),\n",
        "               y = data.values,\n",
        "               )\n",
        "# Create figure layout\n",
        "layout = dict(title = 'Distribución de {} valoraciones'.format(ratings.shape[0]),\n",
        "              xaxis = dict(title = 'Valoración'),\n",
        "              yaxis = dict(title = 'Recuento'))\n",
        "\n",
        "# Create plot with data and layout\n",
        "fig = go.Figure(data=[trace], layout=layout)\n",
        "#iplot(fig)\n",
        "fig.show(renderer='colab')\n",
        "print(data)\n",
        "print(data.index)\n",
        "print(data.values)\n",
        "print(ratings.shape[0])"
      ],
      "metadata": {
        "colab": {
          "base_uri": "https://localhost:8080/",
          "height": 1000
        },
        "id": "9yJllm73bnhy",
        "outputId": "9d62705a-fb0a-4c0e-ef21-537f36762a69"
      },
      "execution_count": null,
      "outputs": [
        {
          "output_type": "display_data",
          "data": {
            "text/plain": [
              "<Figure size 1600x400 with 1 Axes>"
            ],
            "image/png": "[encoded data removed]"
          },
          "metadata": {}
        },
        {
          "output_type": "display_data",
          "data": {
            "text/plain": [
              "<Figure size 1600x400 with 1 Axes>"
            ],
            "image/png": "[encoded data removed]"
          },
          "metadata": {}
        },
        {
          "output_type": "display_data",
          "data": {
            "text/html": [
              "<html>\n",
              "<head><meta charset=\"utf-8\" /></head>\n",
              "<body>\n",
              "    <div>            <script src=\"https://cdnjs.cloudflare.com/ajax/libs/mathjax/2.7.5/MathJax.js?config=TeX-AMS-MML_SVG\"></script><script type=\"text/javascript\">if (window.MathJax && window.MathJax.Hub && window.MathJax.Hub.Config) {window.MathJax.Hub.Config({SVG: {font: \"STIX-Web\"}});}</script>                <script type=\"text/javascript\">window.PlotlyConfig = {MathJaxConfig: 'local'};</script>\n",
              "        <script src=\"https://cdn.plot.ly/plotly-2.18.2.min.js\"></script>                <div id=\"52e564d3-abac-4725-a6ca-796bc15994ec\" class=\"plotly-graph-div\" style=\"height:525px; width:100%;\"></div>            <script type=\"text/javascript\">                                    window.PLOTLYENV=window.PLOTLYENV || {};                                    if (document.getElementById(\"52e564d3-abac-4725-a6ca-796bc15994ec\")) {                    Plotly.newPlot(                        \"52e564d3-abac-4725-a6ca-796bc15994ec\",                        [{\"text\":[\"15.1 %\",\"7.7 %\",\"28.7 %\",\"10.5 %\",\"20.1 %\",\"4.4 %\",\"7.3 %\",\"1.7 %\",\"3.3 %\",\"1.1 %\"],\"textfont\":{\"color\":\"#000000\"},\"textposition\":\"auto\",\"x\":[5.0,4.5,4.0,3.5,3.0,2.5,2.0,1.5,1.0,0.5],\"y\":[15095,7723,28750,10538,20064,4449,7271,1687,3326,1101],\"type\":\"bar\"}],                        {\"title\":{\"text\":\"Distribuci\\u00f3n de 100004 valoraciones\"},\"xaxis\":{\"title\":{\"text\":\"Valoraci\\u00f3n\"}},\"yaxis\":{\"title\":{\"text\":\"Recuento\"}},\"template\":{\"data\":{\"histogram2dcontour\":[{\"type\":\"histogram2dcontour\",\"colorbar\":{\"outlinewidth\":0,\"ticks\":\"\"},\"colorscale\":[[0.0,\"#0d0887\"],[0.1111111111111111,\"#46039f\"],[0.2222222222222222,\"#7201a8\"],[0.3333333333333333,\"#9c179e\"],[0.4444444444444444,\"#bd3786\"],[0.5555555555555556,\"#d8576b\"],[0.6666666666666666,\"#ed7953\"],[0.7777777777777778,\"#fb9f3a\"],[0.8888888888888888,\"#fdca26\"],[1.0,\"#f0f921\"]]}],\"choropleth\":[{\"type\":\"choropleth\",\"colorbar\":{\"outlinewidth\":0,\"ticks\":\"\"}}],\"histogram2d\":[{\"type\":\"histogram2d\",\"colorbar\":{\"outlinewidth\":0,\"ticks\":\"\"},\"colorscale\":[[0.0,\"#0d0887\"],[0.1111111111111111,\"#46039f\"],[0.2222222222222222,\"#7201a8\"],[0.3333333333333333,\"#9c179e\"],[0.4444444444444444,\"#bd3786\"],[0.5555555555555556,\"#d8576b\"],[0.6666666666666666,\"#ed7953\"],[0.7777777777777778,\"#fb9f3a\"],[0.8888888888888888,\"#fdca26\"],[1.0,\"#f0f921\"]]}],\"heatmap\":[{\"type\":\"heatmap\",\"colorbar\":{\"outlinewidth\":0,\"ticks\":\"\"},\"colorscale\":[[0.0,\"#0d0887\"],[0.1111111111111111,\"#46039f\"],[0.2222222222222222,\"#7201a8\"],[0.3333333333333333,\"#9c179e\"],[0.4444444444444444,\"#bd3786\"],[0.5555555555555556,\"#d8576b\"],[0.6666666666666666,\"#ed7953\"],[0.7777777777777778,\"#fb9f3a\"],[0.8888888888888888,\"#fdca26\"],[1.0,\"#f0f921\"]]}],\"heatmapgl\":[{\"type\":\"heatmapgl\",\"colorbar\":{\"outlinewidth\":0,\"ticks\":\"\"},\"colorscale\":[[0.0,\"#0d0887\"],[0.1111111111111111,\"#46039f\"],[0.2222222222222222,\"#7201a8\"],[0.3333333333333333,\"#9c179e\"],[0.4444444444444444,\"#bd3786\"],[0.5555555555555556,\"#d8576b\"],[0.6666666666666666,\"#ed7953\"],[0.7777777777777778,\"#fb9f3a\"],[0.8888888888888888,\"#fdca26\"],[1.0,\"#f0f921\"]]}],\"contourcarpet\":[{\"type\":\"contourcarpet\",\"colorbar\":{\"outlinewidth\":0,\"ticks\":\"\"}}],\"contour\":[{\"type\":\"contour\",\"colorbar\":{\"outlinewidth\":0,\"ticks\":\"\"},\"colorscale\":[[0.0,\"#0d0887\"],[0.1111111111111111,\"#46039f\"],[0.2222222222222222,\"#7201a8\"],[0.3333333333333333,\"#9c179e\"],[0.4444444444444444,\"#bd3786\"],[0.5555555555555556,\"#d8576b\"],[0.6666666666666666,\"#ed7953\"],[0.7777777777777778,\"#fb9f3a\"],[0.8888888888888888,\"#fdca26\"],[1.0,\"#f0f921\"]]}],\"surface\":[{\"type\":\"surface\",\"colorbar\":{\"outlinewidth\":0,\"ticks\":\"\"},\"colorscale\":[[0.0,\"#0d0887\"],[0.1111111111111111,\"#46039f\"],[0.2222222222222222,\"#7201a8\"],[0.3333333333333333,\"#9c179e\"],[0.4444444444444444,\"#bd3786\"],[0.5555555555555556,\"#d8576b\"],[0.6666666666666666,\"#ed7953\"],[0.7777777777777778,\"#fb9f3a\"],[0.8888888888888888,\"#fdca26\"],[1.0,\"#f0f921\"]]}],\"mesh3d\":[{\"type\":\"mesh3d\",\"colorbar\":{\"outlinewidth\":0,\"ticks\":\"\"}}],\"scatter\":[{\"fillpattern\":{\"fillmode\":\"overlay\",\"size\":10,\"solidity\":0.2},\"type\":\"scatter\"}],\"parcoords\":[{\"type\":\"parcoords\",\"line\":{\"colorbar\":{\"outlinewidth\":0,\"ticks\":\"\"}}}],\"scatterpolargl\":[{\"type\":\"scatterpolargl\",\"marker\":{\"colorbar\":{\"outlinewidth\":0,\"ticks\":\"\"}}}],\"bar\":[{\"error_x\":{\"color\":\"#2a3f5f\"},\"error_y\":{\"color\":\"#2a3f5f\"},\"marker\":{\"line\":{\"color\":\"#E5ECF6\",\"width\":0.5},\"pattern\":{\"fillmode\":\"overlay\",\"size\":10,\"solidity\":0.2}},\"type\":\"bar\"}],\"scattergeo\":[{\"type\":\"scattergeo\",\"marker\":{\"colorbar\":{\"outlinewidth\":0,\"ticks\":\"\"}}}],\"scatterpolar\":[{\"type\":\"scatterpolar\",\"marker\":{\"colorbar\":{\"outlinewidth\":0,\"ticks\":\"\"}}}],\"histogram\":[{\"marker\":{\"pattern\":{\"fillmode\":\"overlay\",\"size\":10,\"solidity\":0.2}},\"type\":\"histogram\"}],\"scattergl\":[{\"type\":\"scattergl\",\"marker\":{\"colorbar\":{\"outlinewidth\":0,\"ticks\":\"\"}}}],\"scatter3d\":[{\"type\":\"scatter3d\",\"line\":{\"colorbar\":{\"outlinewidth\":0,\"ticks\":\"\"}},\"marker\":{\"colorbar\":{\"outlinewidth\":0,\"ticks\":\"\"}}}],\"scattermapbox\":[{\"type\":\"scattermapbox\",\"marker\":{\"colorbar\":{\"outlinewidth\":0,\"ticks\":\"\"}}}],\"scatterternary\":[{\"type\":\"scatterternary\",\"marker\":{\"colorbar\":{\"outlinewidth\":0,\"ticks\":\"\"}}}],\"scattercarpet\":[{\"type\":\"scattercarpet\",\"marker\":{\"colorbar\":{\"outlinewidth\":0,\"ticks\":\"\"}}}],\"carpet\":[{\"aaxis\":{\"endlinecolor\":\"#2a3f5f\",\"gridcolor\":\"white\",\"linecolor\":\"white\",\"minorgridcolor\":\"white\",\"startlinecolor\":\"#2a3f5f\"},\"baxis\":{\"endlinecolor\":\"#2a3f5f\",\"gridcolor\":\"white\",\"linecolor\":\"white\",\"minorgridcolor\":\"white\",\"startlinecolor\":\"#2a3f5f\"},\"type\":\"carpet\"}],\"table\":[{\"cells\":{\"fill\":{\"color\":\"#EBF0F8\"},\"line\":{\"color\":\"white\"}},\"header\":{\"fill\":{\"color\":\"#C8D4E3\"},\"line\":{\"color\":\"white\"}},\"type\":\"table\"}],\"barpolar\":[{\"marker\":{\"line\":{\"color\":\"#E5ECF6\",\"width\":0.5},\"pattern\":{\"fillmode\":\"overlay\",\"size\":10,\"solidity\":0.2}},\"type\":\"barpolar\"}],\"pie\":[{\"automargin\":true,\"type\":\"pie\"}]},\"layout\":{\"autotypenumbers\":\"strict\",\"colorway\":[\"#636efa\",\"#EF553B\",\"#00cc96\",\"#ab63fa\",\"#FFA15A\",\"#19d3f3\",\"#FF6692\",\"#B6E880\",\"#FF97FF\",\"#FECB52\"],\"font\":{\"color\":\"#2a3f5f\"},\"hovermode\":\"closest\",\"hoverlabel\":{\"align\":\"left\"},\"paper_bgcolor\":\"white\",\"plot_bgcolor\":\"#E5ECF6\",\"polar\":{\"bgcolor\":\"#E5ECF6\",\"angularaxis\":{\"gridcolor\":\"white\",\"linecolor\":\"white\",\"ticks\":\"\"},\"radialaxis\":{\"gridcolor\":\"white\",\"linecolor\":\"white\",\"ticks\":\"\"}},\"ternary\":{\"bgcolor\":\"#E5ECF6\",\"aaxis\":{\"gridcolor\":\"white\",\"linecolor\":\"white\",\"ticks\":\"\"},\"baxis\":{\"gridcolor\":\"white\",\"linecolor\":\"white\",\"ticks\":\"\"},\"caxis\":{\"gridcolor\":\"white\",\"linecolor\":\"white\",\"ticks\":\"\"}},\"coloraxis\":{\"colorbar\":{\"outlinewidth\":0,\"ticks\":\"\"}},\"colorscale\":{\"sequential\":[[0.0,\"#0d0887\"],[0.1111111111111111,\"#46039f\"],[0.2222222222222222,\"#7201a8\"],[0.3333333333333333,\"#9c179e\"],[0.4444444444444444,\"#bd3786\"],[0.5555555555555556,\"#d8576b\"],[0.6666666666666666,\"#ed7953\"],[0.7777777777777778,\"#fb9f3a\"],[0.8888888888888888,\"#fdca26\"],[1.0,\"#f0f921\"]],\"sequentialminus\":[[0.0,\"#0d0887\"],[0.1111111111111111,\"#46039f\"],[0.2222222222222222,\"#7201a8\"],[0.3333333333333333,\"#9c179e\"],[0.4444444444444444,\"#bd3786\"],[0.5555555555555556,\"#d8576b\"],[0.6666666666666666,\"#ed7953\"],[0.7777777777777778,\"#fb9f3a\"],[0.8888888888888888,\"#fdca26\"],[1.0,\"#f0f921\"]],\"diverging\":[[0,\"#8e0152\"],[0.1,\"#c51b7d\"],[0.2,\"#de77ae\"],[0.3,\"#f1b6da\"],[0.4,\"#fde0ef\"],[0.5,\"#f7f7f7\"],[0.6,\"#e6f5d0\"],[0.7,\"#b8e186\"],[0.8,\"#7fbc41\"],[0.9,\"#4d9221\"],[1,\"#276419\"]]},\"xaxis\":{\"gridcolor\":\"white\",\"linecolor\":\"white\",\"ticks\":\"\",\"title\":{\"standoff\":15},\"zerolinecolor\":\"white\",\"automargin\":true,\"zerolinewidth\":2},\"yaxis\":{\"gridcolor\":\"white\",\"linecolor\":\"white\",\"ticks\":\"\",\"title\":{\"standoff\":15},\"zerolinecolor\":\"white\",\"automargin\":true,\"zerolinewidth\":2},\"scene\":{\"xaxis\":{\"backgroundcolor\":\"#E5ECF6\",\"gridcolor\":\"white\",\"linecolor\":\"white\",\"showbackground\":true,\"ticks\":\"\",\"zerolinecolor\":\"white\",\"gridwidth\":2},\"yaxis\":{\"backgroundcolor\":\"#E5ECF6\",\"gridcolor\":\"white\",\"linecolor\":\"white\",\"showbackground\":true,\"ticks\":\"\",\"zerolinecolor\":\"white\",\"gridwidth\":2},\"zaxis\":{\"backgroundcolor\":\"#E5ECF6\",\"gridcolor\":\"white\",\"linecolor\":\"white\",\"showbackground\":true,\"ticks\":\"\",\"zerolinecolor\":\"white\",\"gridwidth\":2}},\"shapedefaults\":{\"line\":{\"color\":\"#2a3f5f\"}},\"annotationdefaults\":{\"arrowcolor\":\"#2a3f5f\",\"arrowhead\":0,\"arrowwidth\":1},\"geo\":{\"bgcolor\":\"white\",\"landcolor\":\"#E5ECF6\",\"subunitcolor\":\"white\",\"showland\":true,\"showlakes\":true,\"lakecolor\":\"white\"},\"title\":{\"x\":0.05},\"mapbox\":{\"style\":\"light\"}}}},                        {\"responsive\": true}                    ).then(function(){\n",
              "                            \n",
              "var gd = document.getElementById('52e564d3-abac-4725-a6ca-796bc15994ec');\n",
              "var x = new MutationObserver(function (mutations, observer) {{\n",
              "        var display = window.getComputedStyle(gd).display;\n",
              "        if (!display || display === 'none') {{\n",
              "            console.log([gd, 'removed!']);\n",
              "            Plotly.purge(gd);\n",
              "            observer.disconnect();\n",
              "        }}\n",
              "}});\n",
              "\n",
              "// Listen for the removal of the full notebook cells\n",
              "var notebookContainer = gd.closest('#notebook-container');\n",
              "if (notebookContainer) {{\n",
              "    x.observe(notebookContainer, {childList: true});\n",
              "}}\n",
              "\n",
              "// Listen for the clearing of the current output cell\n",
              "var outputEl = gd.closest('.output');\n",
              "if (outputEl) {{\n",
              "    x.observe(outputEl, {childList: true});\n",
              "}}\n",
              "\n",
              "                        })                };                            </script>        </div>\n",
              "</body>\n",
              "</html>"
            ]
          },
          "metadata": {}
        },
        {
          "output_type": "stream",
          "name": "stdout",
          "text": [
            "5.0    15095\n",
            "4.5     7723\n",
            "4.0    28750\n",
            "3.5    10538\n",
            "3.0    20064\n",
            "2.5     4449\n",
            "2.0     7271\n",
            "1.5     1687\n",
            "1.0     3326\n",
            "0.5     1101\n",
            "Name: rating, dtype: int64\n",
            "Float64Index([5.0, 4.5, 4.0, 3.5, 3.0, 2.5, 2.0, 1.5, 1.0, 0.5], dtype='float64')\n",
            "[15095  7723 28750 10538 20064  4449  7271  1687  3326  1101]\n",
            "100004\n"
          ]
        }
      ]
    },
    {
      "cell_type": "markdown",
      "source": [
        "* no todas las peliculas tienen una cantidad parecida de reviews , la pelicula con mas reviews es la 356 , con 350 calificaciones\n",
        "\n",
        "* Las calificaciones no estan distribuidas uniformemente para los usuarios , el usuario 547 ha dado alrededor de 2400 calificaciones\n",
        "\n",
        "* La mayoria de usuarios da una calificacion alrededor de 4 "
      ],
      "metadata": {
        "id": "kwrYyQ_GPIcf"
      }
    },
    {
      "cell_type": "code",
      "source": [
        "#Movies with rating bigger than 400, will be set to 400\n",
        "data = ratings.groupby('movieId')['rating'].count().clip(upper=50)\n",
        "\n",
        "# Create the trace data\n",
        "trace = go.Histogram(x = data.values,\n",
        "                     name = 'Valoraciones',\n",
        "                     xbins = dict(start = 1,\n",
        "                                  end = 51,\n",
        "                                  size = 2))\n",
        "# Create figure layout\n",
        "layout = go.Layout(title = 'Distribución de número de valoraciones por película',\n",
        "                   xaxis = dict(title = 'Número de valoraciones por película'),\n",
        "                   yaxis = dict(title = 'Recuento'),\n",
        "                   bargap = 0.2)\n",
        "\n",
        "# Create plot with data and layout\n",
        "fig = go.Figure(data=[trace], layout=layout)\n",
        "#iplot(fig)\n",
        "fig.show(renderer='colab')\n",
        "\n",
        "\n",
        "print(\"Recuento Película-Puntuación (Top 10)\")\n",
        "movie_ratings_count = ratings.groupby('movieId')['rating'].count().reset_index().sort_values('rating', ascending=False)[:10]\n",
        "print(movie_ratings_count)\n",
        "\n",
        "print(\"Número de películas: %s\" % ratings.groupby('movieId')['rating'].count().shape[0])\n"
      ],
      "metadata": {
        "colab": {
          "base_uri": "https://localhost:8080/",
          "height": 768
        },
        "id": "F_HBFyMIe4ql",
        "outputId": "2c165e18-fa2a-49fa-d36c-8b4a9201e6c2"
      },
      "execution_count": null,
      "outputs": [
        {
          "output_type": "display_data",
          "data": {
            "text/html": [
              "<html>\n",
              "<head><meta charset=\"utf-8\" /></head>\n",
              "<body>\n",
              "    <div>            <script src=\"https://cdnjs.cloudflare.com/ajax/libs/mathjax/2.7.5/MathJax.js?config=TeX-AMS-MML_SVG\"></script><script type=\"text/javascript\">if (window.MathJax && window.MathJax.Hub && window.MathJax.Hub.Config) {window.MathJax.Hub.Config({SVG: {font: \"STIX-Web\"}});}</script>                <script type=\"text/javascript\">window.PlotlyConfig = {MathJaxConfig: 'local'};</script>\n",
              "        <script src=\"https://cdn.plot.ly/plotly-2.18.2.min.js\"></script>                <div id=\"ca9af666-517b-47c9-8dd1-258cb0601a56\" class=\"plotly-graph-div\" style=\"height:525px; width:100%;\"></div>            <script type=\"text/javascript\">                                    window.PLOTLYENV=window.PLOTLYENV || {};                                    if (document.getElementById(\"ca9af666-517b-47c9-8dd1-258cb0601a56\")) {                    Plotly.newPlot(                        \"ca9af666-517b-47c9-8dd1-258cb0601a56\",                        [{\"name\":\"Valoraciones\",\"x\":[50,50,50,13,50,50,50,5,20,50,50,18,8,31,11,50,50,26,50,13,50,38,22,34,50,5,7,18,40,10,42,50,50,11,50,2,2,50,6,23,9,12,38,43,12,50,50,2,50,50,1,3,6,14,45,2,32,7,50,6,10,20,5,8,22,48,7,6,13,19,15,2,10,26,4,18,10,3,1,16,17,3,23,17,12,11,22,50,1,8,1,4,21,17,11,4,50,48,27,1,50,50,49,5,1,6,6,5,1,5,19,7,1,21,10,1,1,1,8,27,1,23,50,26,43,3,21,1,6,50,48,3,50,16,9,11,8,50,8,50,50,33,50,26,50,4,1,43,8,26,6,48,50,4,23,18,13,5,6,44,15,1,2,50,48,3,16,1,6,5,35,24,14,50,43,3,1,1,4,23,31,4,10,28,50,5,3,9,2,18,42,7,15,4,2,22,50,35,50,16,1,12,25,50,24,13,12,50,50,34,5,15,5,4,4,1,1,1,50,43,13,20,4,1,41,50,4,5,42,13,11,5,50,50,20,1,2,50,50,13,4,3,9,4,39,27,3,5,22,35,5,4,22,18,44,1,1,5,50,14,16,6,50,50,3,4,50,16,50,1,7,24,3,12,32,31,22,3,5,7,17,44,50,50,50,38,4,7,14,3,1,7,26,8,50,10,6,10,50,14,3,1,50,15,50,8,2,50,1,50,48,6,7,40,50,50,13,7,50,2,39,50,50,7,12,25,30,5,50,10,11,50,50,9,50,20,34,18,20,3,47,50,12,21,50,29,19,13,4,3,6,1,5,3,3,5,1,16,10,1,1,50,25,26,7,12,6,13,2,15,50,11,9,14,3,4,12,14,23,9,32,50,7,50,50,5,4,2,1,50,37,50,6,7,9,9,1,11,2,16,7,8,5,50,31,6,50,4,2,2,5,7,9,5,50,3,33,8,3,49,2,3,50,31,1,16,4,50,32,10,4,6,50,2,2,4,12,14,21,21,23,50,8,3,50,3,1,50,15,16,5,7,9,17,50,50,5,3,2,6,17,46,13,16,11,24,50,10,9,6,36,1,50,2,45,31,18,6,25,26,4,10,25,50,18,50,19,50,9,17,5,9,12,11,50,50,50,2,50,15,9,1,1,30,1,1,2,2,2,6,1,1,9,14,2,3,17,1,41,50,50,50,50,50,50,50,50,50,50,50,14,1,1,19,6,50,14,33,7,6,13,2,2,42,1,4,2,3,1,9,50,2,10,2,3,7,29,1,5,18,31,50,8,1,50,2,2,50,9,17,2,5,3,4,3,33,50,21,12,1,6,1,4,2,10,1,7,1,10,2,2,3,1,7,1,1,6,3,27,50,12,2,9,11,3,3,34,45,1,2,36,4,2,16,4,50,8,50,15,27,6,22,50,1,2,22,50,5,3,1,1,1,2,3,18,39,1,18,9,1,1,1,50,4,50,4,6,49,50,50,50,2,50,1,12,24,35,12,50,2,14,49,9,2,4,8,3,1,14,1,3,4,7,26,2,50,4,1,6,13,18,41,11,2,7,3,1,1,3,11,28,4,8,50,1,50,12,2,1,27,1,4,3,1,2,1,5,25,4,3,1,1,3,1,9,7,3,3,4,37,50,22,12,44,50,50,25,13,11,50,33,50,27,50,50,50,23,26,8,14,50,50,20,39,50,50,38,5,23,5,21,16,16,29,24,6,13,5,11,1,18,4,26,12,3,21,10,11,11,16,17,26,21,50,31,30,3,1,2,1,2,2,2,16,1,27,50,5,17,1,7,2,1,1,4,2,14,1,4,1,12,2,22,8,3,3,16,5,3,7,6,11,5,18,17,9,19,21,10,23,10,17,10,37,29,14,50,17,4,26,1,44,50,42,18,22,49,21,10,50,50,27,1,26,49,4,1,8,30,21,9,7,1,2,3,4,17,50,42,33,3,14,11,1,1,3,50,2,39,19,50,50,29,16,8,50,8,26,4,50,50,50,27,50,36,50,27,26,50,11,19,50,40,40,2,8,3,7,3,33,2,28,28,11,50,6,48,8,17,16,1,23,50,1,1,16,50,10,1,1,1,1,8,5,2,1,1,3,1,1,31,46,19,1,30,9,13,15,40,3,1,50,4,28,29,11,34,20,5,10,9,50,15,50,50,50,50,50,50,7,50,50,50,50,50,16,50,19,38,50,50,50,5,26,14,50,50,50,50,39,22,50,13,22,50,50,45,10,50,50,44,5,16,17,50,11,50,22,50,27,50,50,19,39,50,20,50,20,30,12,34,24,50,50,21,33,49,48,14,50,50,49,17,37,50,40,40,19,34,49,46,11,50,12,19,23,50,21,32,50,18,46,50,13,12,50,28,46,17,31,20,24,35,19,9,50,15,50,12,7,50,1,1,1,1,50,38,2,4,1,1,3,13,1,1,7,3,7,50,15,1,2,3,50,8,4,17,39,19,37,9,32,21,2,25,2,4,13,20,2,50,37,50,11,13,7,5,13,37,2,50,47,47,25,50,50,50,50,28,14,50,19,2,1,18,50,27,12,6,50,8,50,50,14,50,2,4,10,8,4,46,4,50,43,33,4,25,4,10,2,22,1,10,1,15,2,9,5,1,13,1,9,5,1,3,22,4,28,2,1,3,9,3,29,1,7,1,1,2,10,1,20,6,14,2,20,1,39,3,1,2,6,3,23,35,6,2,9,3,50,8,15,4,2,1,2,3,7,28,50,1,2,6,2,2,3,45,20,4,50,13,2,2,6,50,3,1,1,5,18,1,16,5,1,50,2,2,1,1,50,6,1,23,47,1,2,32,50,1,1,3,50,1,50,5,2,2,50,27,24,17,19,23,15,7,7,14,3,3,44,4,4,4,4,2,10,2,5,4,50,2,50,12,6,1,25,10,14,50,19,20,2,5,1,50,3,11,5,2,1,8,17,2,50,1,50,4,10,30,50,7,6,9,6,2,50,2,2,1,8,2,4,40,8,8,3,1,5,1,15,50,50,50,21,26,9,50,10,5,5,21,22,12,45,1,25,16,1,9,16,16,5,50,9,20,16,1,32,23,50,49,7,7,1,50,5,1,50,1,13,15,2,4,3,50,50,1,7,10,13,2,1,2,1,13,4,2,9,1,15,50,19,3,50,5,4,4,22,6,1,1,12,3,9,22,3,39,2,2,4,15,2,4,1,9,1,3,2,9,26,11,23,23,9,3,4,4,4,3,12,2,10,1,1,5,8,6,2,3,1,8,7,1,6,5,1,13,1,6,48,1,2,4,28,31,44,24,1,6,15,6,1,23,23,14,1,7,5,1,2,2,4,42,47,1,27,29,7,13,14,50,42,2,17,40,3,50,9,2,1,14,1,7,10,2,1,9,8,4,4,7,11,7,6,6,6,20,29,12,45,12,10,22,14,39,46,50,31,31,42,34,30,31,50,40,10,15,32,12,36,50,8,5,3,5,3,17,9,6,6,2,4,1,3,26,8,8,5,2,4,2,1,1,10,5,4,38,8,4,50,2,3,50,50,39,47,21,50,50,1,1,17,26,50,50,28,15,19,4,7,34,50,34,30,13,35,3,13,5,8,50,5,2,1,12,9,1,4,3,8,1,6,6,10,8,4,5,17,1,4,1,6,4,7,17,50,1,1,4,33,18,12,2,1,42,21,7,22,10,9,13,8,19,5,1,3,41,6,46,1,50,50,22,14,8,41,1,38,25,12,14,3,13,9,32,4,35,6,2,10,50,2,7,1,3,47,10,10,39,50,15,13,17,4,23,50,19,13,20,6,9,9,11,10,35,28,23,2,12,5,23,22,36,12,18,25,14,27,28,26,12,15,46,42,18,5,6,2,36,5,2,13,6,10,8,36,38,9,9,2,7,8,50,4,6,4,4,3,50,12,2,9,2,5,2,9,8,23,2,15,1,1,1,42,50,7,1,1,2,11,10,3,2,5,1,14,1,1,1,1,1,1,1,36,21,8,2,3,3,13,6,36,1,25,1,16,47,13,5,13,20,1,5,1,2,11,2,4,17,8,4,3,6,4,50,15,4,5,43,3,2,40,11,5,14,3,1,3,3,6,33,44,8,50,1,50,2,8,13,33,18,50,21,4,1,5,1,5,15,15,28,2,6,14,23,4,50,7,1,50,4,5,4,50,3,9,23,16,26,48,6,13,1,23,1,6,4,14,3,11,11,1,7,36,50,2,50,10,11,30,11,8,4,11,4,5,23,11,3,35,3,28,11,6,8,22,19,2,22,19,15,14,13,12,30,8,3,13,1,13,11,31,10,17,35,50,50,2,22,2,1,7,14,18,13,31,50,43,8,17,21,21,19,19,9,2,14,5,6,3,38,27,19,25,50,5,36,22,8,5,28,5,19,4,4,8,1,1,10,4,2,7,5,4,5,13,2,2,12,3,7,14,47,7,5,5,17,5,2,4,20,2,2,23,15,22,50,22,4,9,17,4,3,31,1,2,4,2,29,1,1,5,32,5,5,1,2,4,21,10,3,2,3,35,50,7,18,4,1,3,18,4,1,2,8,9,1,15,9,11,3,10,5,1,13,28,50,8,6,7,13,1,6,3,2,50,5,50,50,4,8,4,9,3,12,2,5,3,4,3,12,2,5,8,1,3,21,1,21,6,1,5,50,50,1,11,9,3,4,50,35,4,9,4,1,5,2,4,9,10,3,20,50,24,41,7,6,2,4,4,9,5,3,27,50,3,3,4,21,3,1,4,1,50,4,2,1,3,3,2,1,1,1,10,50,38,24,12,9,1,15,1,1,2,2,1,4,1,2,50,3,2,2,18,19,10,3,6,50,18,2,1,4,13,3,1,4,50,22,28,31,3,20,2,50,10,29,5,3,50,50,47,21,3,50,36,1,7,50,50,21,3,3,50,43,13,21,20,6,34,36,45,5,11,2,19,16,12,14,10,3,18,18,14,6,31,3,10,45,14,5,5,22,2,5,3,1,2,7,1,22,42,50,39,6,1,2,6,50,4,6,3,2,1,21,3,2,3,1,3,2,8,22,5,6,50,25,9,16,30,9,50,4,2,1,5,10,25,50,23,11,2,16,2,6,1,6,4,3,15,2,10,2,25,11,2,11,1,1,3,1,1,24,22,3,3,1,9,3,1,1,1,3,6,2,1,5,21,50,5,10,15,8,30,2,10,10,2,1,8,32,16,2,18,3,9,2,5,1,43,6,8,1,2,4,2,11,7,46,6,3,1,2,1,2,3,3,9,4,3,1,7,9,6,44,17,1,42,50,22,50,17,4,9,3,1,6,7,21,2,3,14,2,6,10,6,4,3,2,8,14,30,6,35,1,11,50,32,31,19,19,11,31,6,50,11,4,4,19,5,43,3,6,20,2,28,4,2,21,2,8,2,1,1,2,1,50,19,50,8,18,17,24,1,17,16,2,50,1,38,1,2,1,13,30,45,14,3,2,10,3,6,15,5,14,27,31,1,14,3,1,4,2,9,1,7,50,29,17,4,18,4,48,6,1,3,1,24,4,3,1,2,11,50,10,7,2,2,21,11,11,7,3,10,14,17,5,11,11,37,6,5,4,9,2,7,50,36,20,5,30,19,23,6,5,7,3,31,5,12,35,9,28,49,10,3,29,19,3,32,37,1,3,9,3,19,50,3,1,4,2,3,1,1,10,6,4,12,12,2,12,9,2,4,1,4,5,1,2,6,22,50,39,3,21,7,11,18,27,2,17,50,1,7,1,1,8,25,13,2,25,35,50,50,6,22,11,1,6,8,4,13,20,4,9,1,1,11,20,4,21,3,10,20,1,15,7,1,4,1,6,50,2,10,1,1,1,5,13,2,4,4,5,1,3,6,1,2,2,8,14,1,29,37,15,17,12,10,30,50,22,50,48,29,21,15,17,12,12,29,15,10,8,14,10,20,11,15,8,27,11,22,1,1,2,4,27,6,4,2,1,1,8,29,6,26,26,1,1,3,4,23,10,2,8,2,1,11,35,1,2,7,3,3,3,20,1,7,1,16,1,1,3,12,7,2,1,6,1,10,1,30,12,4,18,19,27,44,29,38,7,14,4,1,4,1,6,1,3,3,42,5,9,2,3,5,1,4,5,35,10,11,1,2,4,1,12,8,4,50,28,8,4,2,3,45,13,50,8,1,32,1,6,2,3,10,7,2,1,1,32,8,1,18,10,5,14,2,4,9,1,1,50,2,31,18,19,2,1,4,6,2,1,13,32,1,1,5,17,23,12,4,50,1,4,24,10,12,21,7,50,6,11,1,43,2,1,1,13,1,2,2,13,45,5,8,2,10,38,11,4,21,13,3,41,4,19,7,5,8,1,6,3,11,1,17,5,23,50,14,9,1,24,50,18,6,9,3,2,22,3,22,16,4,16,18,3,17,50,1,3,29,30,6,6,1,2,11,11,11,1,1,7,5,2,2,2,1,2,4,50,3,1,6,4,1,2,3,18,19,12,1,6,4,4,1,5,2,9,29,2,1,1,2,17,13,3,37,10,1,2,1,2,50,38,3,3,1,11,3,12,6,22,1,23,18,2,2,8,11,10,13,2,1,2,2,1,2,1,1,1,1,1,13,3,50,8,2,3,11,14,8,5,4,3,14,7,24,9,15,20,1,12,5,5,2,2,5,3,2,3,19,24,22,3,16,35,29,19,9,14,10,3,3,1,12,4,2,3,2,50,2,1,2,2,5,13,4,4,5,7,3,23,2,3,7,8,27,7,1,5,3,22,13,16,2,13,23,1,7,50,43,50,6,50,1,2,2,9,3,21,5,1,3,1,5,3,4,6,2,1,2,1,14,2,37,5,2,15,5,1,24,3,50,5,2,26,4,1,15,5,2,1,3,5,29,4,9,11,6,13,3,5,1,14,2,4,5,27,30,18,1,6,1,3,4,3,9,1,1,1,2,9,2,20,1,1,1,1,1,1,12,2,2,4,3,2,1,14,34,4,6,35,27,1,10,3,11,1,5,1,1,20,1,1,3,5,1,1,2,21,2,8,50,1,2,1,3,1,1,5,1,23,50,2,3,3,39,11,4,3,2,2,2,1,1,8,2,10,5,9,5,4,1,1,6,2,1,1,1,1,1,3,1,7,1,50,50,9,1,17,3,4,2,8,16,1,3,2,8,2,3,2,43,17,23,3,1,11,5,4,1,50,10,18,14,12,16,23,1,20,10,29,5,4,11,4,16,50,50,10,14,20,1,1,36,2,5,9,20,24,4,11,50,4,45,22,32,11,44,26,11,9,50,21,4,50,1,50,15,4,4,18,50,1,10,8,13,9,11,4,2,1,2,5,1,1,8,1,21,4,11,1,5,7,3,9,3,2,26,1,1,1,1,5,4,1,14,50,4,1,1,8,5,1,2,2,1,9,14,2,24,1,1,2,3,1,1,5,6,11,1,1,6,3,20,5,1,12,3,3,1,1,1,2,1,3,8,2,33,8,1,3,6,1,2,4,30,1,4,8,3,1,1,1,5,1,3,6,3,1,1,1,3,1,5,8,4,2,9,6,2,2,1,1,1,1,4,6,1,1,10,7,5,3,14,1,3,5,4,4,6,3,1,37,2,11,50,10,2,4,14,1,6,30,2,3,17,37,1,50,10,2,3,1,5,7,49,6,3,1,3,1,32,3,3,2,7,3,3,5,2,10,1,3,1,3,9,7,2,3,4,3,2,28,2,1,5,3,50,50,42,4,2,5,4,1,28,13,1,11,14,4,1,12,4,1,2,4,8,1,20,33,6,1,4,1,17,3,1,1,2,6,7,6,2,29,6,35,4,40,50,2,9,1,13,3,2,3,3,6,6,19,2,1,1,1,3,4,1,1,1,1,2,2,1,11,2,5,3,1,1,1,1,4,5,7,1,9,1,7,2,4,3,3,3,1,4,3,2,19,47,18,7,1,5,2,2,2,1,1,5,7,1,13,1,1,1,1,6,1,1,6,1,4,4,4,3,6,4,24,2,1,4,1,4,3,1,21,1,3,3,4,4,5,2,1,2,2,2,5,3,1,1,2,1,5,1,1,2,2,2,5,2,5,4,1,1,1,1,3,14,5,1,4,3,1,9,11,1,1,1,2,5,8,1,2,1,1,1,3,40,3,1,2,1,1,4,7,2,1,1,1,1,1,1,3,1,1,1,1,2,3,1,8,1,5,2,14,1,23,4,2,1,3,4,2,2,1,1,1,31,14,1,36,7,44,1,1,6,2,6,1,5,1,3,5,4,1,4,2,1,2,10,1,2,3,4,8,10,1,9,3,1,4,1,3,2,1,1,2,4,1,6,18,26,3,3,4,1,5,2,1,5,3,1,1,39,2,49,2,3,5,1,1,6,8,1,3,2,31,6,1,2,3,1,1,2,5,3,1,2,2,1,2,1,2,1,3,7,1,4,1,3,2,3,1,1,4,2,3,37,2,3,4,7,1,4,4,1,2,7,2,2,6,6,1,2,5,2,2,1,11,2,46,1,3,1,19,2,2,1,2,3,2,8,2,2,1,1,14,10,39,1,1,1,23,13,1,1,3,1,20,5,5,11,24,1,4,50,8,20,2,50,10,4,7,23,1,1,50,1,4,2,26,4,10,3,5,10,4,2,3,1,2,1,3,5,1,4,1,8,7,1,2,1,2,7,2,5,2,1,12,1,1,50,1,5,9,2,5,9,3,2,50,13,37,2,3,5,50,15,2,1,1,1,2,3,10,50,10,50,1,1,2,1,1,2,1,1,8,6,49,3,29,14,27,4,3,1,5,1,1,10,10,4,2,1,4,1,1,5,1,1,1,1,5,5,16,2,2,3,8,4,1,1,50,3,1,1,23,7,10,2,1,3,2,8,1,1,1,2,2,1,3,1,1,3,3,3,3,1,2,1,3,1,1,21,4,6,4,5,1,11,3,5,1,1,6,3,1,1,3,6,2,16,2,3,2,1,11,8,13,16,1,5,1,1,3,1,3,3,12,2,5,2,1,1,2,3,3,1,1,2,1,1,1,1,4,50,22,5,6,1,1,26,1,1,1,1,1,1,1,1,1,4,2,2,1,1,1,2,6,2,5,22,4,1,1,1,4,30,4,7,1,2,1,1,1,3,3,11,1,2,16,8,10,10,8,3,3,50,3,1,1,10,3,1,1,19,8,8,11,2,6,5,4,1,2,3,1,3,1,3,8,4,1,1,2,3,1,50,1,1,2,1,5,2,3,1,1,6,2,1,3,2,2,2,50,50,4,5,5,1,1,6,5,26,3,6,1,2,17,9,2,2,1,4,6,1,5,50,12,6,3,1,1,1,1,2,2,3,1,1,21,50,10,3,1,19,1,6,2,49,4,3,16,38,1,5,1,1,3,4,5,7,5,45,5,6,2,2,12,1,50,1,8,12,4,23,5,2,1,1,1,1,4,5,6,3,3,19,6,1,1,1,1,1,10,11,3,2,2,1,1,1,1,1,2,3,2,2,6,1,17,1,12,2,1,1,1,2,1,1,1,4,3,1,1,2,6,3,3,1,2,1,15,50,1,22,8,1,3,5,2,27,2,2,1,1,1,1,1,1,2,2,2,10,3,2,2,1,6,2,5,50,4,1,24,1,1,1,48,5,2,1,1,5,1,14,1,11,4,1,1,2,1,4,5,1,3,1,1,1,2,2,1,3,1,1,1,1,1,7,3,1,1,1,3,1,1,1,1,4,22,5,11,1,1,13,5,1,2,2,3,3,1,6,24,15,2,50,1,1,3,1,1,1,2,1,2,4,1,1,1,2,3,1,1,3,1,3,1,1,2,1,1,3,1,1,31,1,2,2,10,16,3,2,8,7,1,1,1,3,2,9,1,42,35,3,1,1,2,2,1,1,2,1,4,3,1,1,4,5,4,5,15,10,34,2,3,50,27,8,35,15,1,8,1,2,2,2,1,1,2,1,5,26,1,1,1,2,50,50,15,1,1,50,1,10,16,2,2,2,1,4,1,50,2,1,2,3,2,2,1,1,1,2,3,1,1,2,1,3,9,14,4,5,2,1,1,1,2,1,1,1,4,2,1,1,6,1,10,1,1,1,1,3,1,1,3,2,1,3,2,2,1,1,2,1,1,1,15,15,28,1,2,1,1,5,3,2,1,3,5,1,1,6,32,1,4,1,2,2,1,1,2,7,7,6,3,5,41,2,3,1,1,2,2,2,3,2,1,6,3,6,2,2,13,1,2,2,2,4,3,4,5,1,1,2,1,5,3,1,2,2,7,3,3,1,1,28,16,1,4,23,4,5,4,1,21,8,1,6,1,3,1,9,2,1,4,2,2,5,2,3,23,3,1,16,1,50,1,3,2,2,2,1,1,5,1,1,22,2,1,3,3,50,9,1,1,6,50,2,50,50,4,11,12,1,22,1,1,2,3,2,1,2,1,2,2,5,1,1,1,2,3,2,2,1,1,1,5,1,1,1,3,6,23,1,1,1,3,1,3,5,2,1,2,5,2,1,4,1,1,1,2,1,2,3,4,4,1,2,1,50,24,1,1,1,1,3,1,1,1,3,1,1,4,1,5,16,6,1,38,5,50,20,1,11,5,10,1,4,1,12,25,3,2,1,1,3,3,1,10,2,6,3,14,10,4,2,1,1,2,1,2,1,5,2,6,3,8,17,1,1,1,1,2,4,2,3,6,1,4,3,5,5,13,15,8,5,1,9,6,1,1,3,1,1,3,1,1,1,1,4,22,10,3,50,3,2,4,2,1,6,1,1,1,6,4,2,1,5,2,1,1,10,21,9,1,2,1,6,4,3,2,1,2,1,2,13,7,4,9,2,2,1,5,5,4,20,2,4,5,4,3,27,2,1,1,1,1,37,4,3,4,1,2,1,2,2,4,1,1,2,1,1,4,1,1,3,1,4,2,11,4,2,50,2,13,3,4,46,1,14,50,1,1,10,3,10,1,1,2,3,12,5,10,1,7,1,2,3,1,4,2,1,2,1,10,50,3,27,1,50,11,3,34,1,3,3,30,6,19,1,2,2,1,1,2,4,2,5,10,2,5,33,1,3,1,5,5,13,3,3,1,1,15,1,5,1,1,5,7,1,2,13,3,6,5,2,2,1,1,10,1,2,4,1,26,1,2,2,1,5,3,1,5,8,3,2,4,2,6,7,7,1,1,1,1,4,1,1,8,3,4,9,7,2,1,4,2,2,2,4,5,1,5,3,4,2,2,1,1,1,8,1,1,2,2,6,33,9,1,1,2,20,3,4,4,3,1,1,1,2,5,2,6,2,6,1,1,1,1,11,4,4,7,17,2,45,50,12,5,4,1,50,8,4,15,10,16,7,16,10,6,2,3,1,13,2,1,1,1,1,1,1,1,1,1,1,1,1,1,1,1,1,1,3,3,1,4,6,3,2,1,1,3,1,5,7,2,1,1,5,1,1,48,7,10,2,1,1,11,9,2,1,1,2,8,29,3,1,2,1,5,1,1,2,1,1,1,1,3,16,12,1,4,21,7,17,9,3,1,1,13,6,7,1,1,1,1,2,1,25,50,4,6,7,2,8,1,28,1,3,3,1,6,3,3,13,10,2,1,5,1,2,1,8,1,50,7,17,23,1,2,1,28,1,16,1,32,2,7,3,4,9,3,3,1,5,22,3,2,4,1,4,11,5,1,3,7,1,2,3,1,4,1,1,6,1,6,2,2,3,1,2,1,1,1,7,1,6,1,4,2,3,1,1,6,1,3,2,2,4,2,2,2,1,4,1,1,1,7,4,4,1,1,2,1,1,1,1,3,3,5,2,3,2,2,1,2,1,1,2,2,3,3,1,3,3,2,6,3,3,5,1,4,1,1,1,1,1,1,1,1,1,1,2,1,1,3,1,1,2,1,2,1,1,1,6,2,1,6,1,1,2,1,4,1,4,3,1,1,1,1,1,1,3,5,7,3,3,4,1,1,1,3,1,1,3,1,2,5,4,6,1,2,2,2,2,7,2,1,1,1,2,2,2,1,1,3,1,4,2,2,3,11,1,1,2,2,1,1,2,8,8,3,2,7,4,1,3,1,2,4,2,3,2,3,2,5,1,4,15,1,4,1,3,1,1,1,1,2,3,1,1,2,1,3,1,2,1,1,1,9,3,3,2,50,25,1,4,2,15,2,50,5,7,20,4,10,45,2,6,1,1,1,1,1,1,1,1,1,3,1,1,2,1,1,45,1,4,2,1,1,2,3,3,14,4,3,1,9,2,2,1,2,3,1,37,37,4,5,33,1,3,1,7,1,2,1,2,1,2,1,3,5,5,1,2,2,1,3,4,1,3,1,6,2,2,4,1,2,3,4,46,13,1,1,8,50,17,8,34,1,4,50,17,2,1,3,1,4,50,7,2,1,1,1,1,1,1,1,1,1,1,2,2,1,1,1,1,2,1,1,1,1,1,2,1,1,4,1,1,1,1,2,1,1,13,29,50,1,1,1,4,1,40,1,2,22,8,18,1,2,1,1,1,1,1,7,1,2,1,1,4,1,3,5,1,1,1,1,1,1,1,1,2,11,14,1,11,4,5,1,1,26,50,5,4,2,1,1,1,1,1,4,11,4,18,2,12,1,7,20,2,1,1,2,2,4,1,2,1,3,2,4,3,1,1,13,4,45,19,2,1,1,33,21,50,1,1,7,14,3,8,37,35,8,2,2,2,19,1,17,34,12,1,2,1,2,4,1,1,1,1,1,2,1,3,1,1,5,1,2,1,1,1,4,10,1,1,3,4,1,1,1,3,1,2,1,3,1,1,1,1,4,1,1,1,3,2,1,1,2,1,1,1,1,1,1,1,1,1,1,3,1,1,1,2,2,1,1,2,1,1,1,1,1,2,1,1,1,1,1,1,2,2,1,2,6,1,1,1,1,3,2,1,1,1,6,4,1,1,1,4,1,1,1,1,2,2,1,3,1,1,2,1,1,1,1,3,2,4,1,5,1,1,1,2,1,2,2,1,2,1,1,1,1,1,5,1,1,1,1,1,2,1,2,2,2,1,1,1,2,1,1,1,1,1,3,1,1,1,1,1,1,3,1,1,1,1,3,1,1,1,1,4,4,2,2,3,2,2,1,1,1,2,5,1,2,2,13,1,1,5,1,18,1,4,2,1,1,2,1,1,3,1,1,1,4,1,8,1,1,1,1,1,1,1,12,1,1,1,1,1,1,2,1,1,1,1,3,2,1,1,1,2,2,1,2,1,1,3,1,3,1,4,3,3,2,2,2,2,1,1,2,1,1,4,6,1,3,1,1,1,2,2,1,1,1,1,2,1,6,1,2,1,1,1,5,21,1,1,17,1,2,1,1,2,1,15,1,11,1,1,1,3,3,2,1,1,4,32,1,1,1,7,5,1,2,1,2,8,1,6,9,1,6,1,14,5,1,18,1,1,4,3,8,5,1,1,1,1,1,2,1,1,7,3,1,2,14,1,1,50,2,1,3,32,1,47,3,29,34,8,1,7,9,25,1,1,2,1,1,1,2,3,1,1,2,1,1,1,1,2,2,1,2,1,4,10,2,2,1,1,2,2,2,20,1,4,2,1,1,3,2,3,1,1,2,1,1,1,27,2,1,24,1,3,25,1,1,2,1,1,1,19,1,1,2,1,3,1,1,1,2,3,1,1,9,13,1,1,1,1,1,1,1,1,2,2,1,1,6,1,1,1,1,2,2,1,1,1,2,1,1,1,1,1,2,2,1,2,50,1,5,8,1,1,1,2,1,1,1,2,2,1,3,2,1,6,1,1,34,1,2,1,2,2,7,1,10,3,48,7,1,1,1,1,4,50,2,2,1,2,1,28,1,6,3,19,4,1,49,3,2,1,1,1,50,2,1,2,5,7,1,5,1,4,1,1,1,2,40,9,1,3,15,5,42,2,1,2,22,3,3,2,12,4,1,6,1,1,40,1,15,2,2,2,2,5,4,1,10,2,1,1,50,7,1,6,1,1,11,1,18,14,8,6,31,1,7,1,8,1,2,4,1,5,2,5,13,2,1,2,11,21,10,20,1,1,19,1,8,2,1,3,28,29,3,1,5,4,10,2,1,1,29,2,1,27,2,3,1,1,3,1,1,1,4,3,18,1,5,1,1,2,1,2,1,13,6,2,3,1,1,2,16,1,4,20,2,7,50,1,42,5,1,4,1,1,2,3,16,1,3,49,23,11,1,1,4,1,2,1,24,3,5,3,1,12,2,3,2,1,3,1,4,3,1,1,4,1,8,3,1,1,2,3,15,1,1,1,1,1,1,1,1,1,1,3,1,8,1,1,1,2,1,2,1,2,1,4,1,1,3,1,1,1,1,2,5,2,7,2,1,9,6,20,1,50,3,40,1,28,5,2,1,1,1,5,1,1,37,2,1,1,4,25,1,10,3,1,1,1,14,5,2,1,1,1,1,4,6,1,4,4,4,1,1,2,21,3,2,2,1,15,2,1,35,22,5,1,25,1,1,7,4,10,1,21,50,2,18,2,6,2,4,2,1,19,1,1,4,6,7,2,1,13,1,1,1,1,50,1,16,1,3,1,2,1,4,10,4,17,18,3,40,5,1,24,1,4,1,2,1,7,2,2,1,2,1,1,4,1,1,6,1,2,1,11,1,33,5,8,1,5,1,2,1,1,1,3,1,1,11,6,1,12,1,9,1,1,2,1,1,2,1,1,8,2,6,44,50,1,1,50,2,1,1,2,1,1,1,1,1,9,3,15,3,4,43,50,4,1,1,1,3,7,1,7,9,1,3,2,1,1,50,3,13,1,1,13,1,1,2,4,2,2,37,2,9,5,1,4,1,6,4,1,1,3,3,2,2,1,1,11,1,1,1,3,1,1,1,1,1,1,4,2,1,4,3,1,3,3,1,4,2,2,2,2,1,4,50,4,2,2,1,7,5,8,5,1,1,1,1,1,1,42,2,1,1,2,1,5,1,1,20,2,50,1,3,2,1,2,4,2,1,1,7,1,1,2,14,18,8,2,11,1,13,1,10,1,2,1,1,1,6,3,1,3,4,1,2,1,1,23,1,5,1,11,1,1,9,4,24,9,14,2,1,13,11,33,5,1,1,1,2,5,25,1,3,2,2,8,1,3,13,6,1,2,1,12,7,7,25,2,5,31,1,38,7,5,1,1,2,23,1,37,3,4,50,2,1,2,3,1,1,44,1,3,3,1,4,1,1,2,1,1,1,1,9,1,14,20,4,1,9,2,4,1,1,4,1,2,1,19,1,4,1,8,2,31,2,2,1,2,6,21,2,3,12,15,7,14,1,3,1,9,4,5,1,1,1,6,1,1,1,8,1,1,22,7,5,5,49,8,1,2,1,6,8,2,4,1,1,1,1,8,15,3,2,5,42,3,9,1,4,2,1,4,50,2,12,2,1,5,19,7,26,7,4,2,1,2,1,1,3,4,16,1,1,3,3,2,2,19,2,1,1,2,6,1,6,3,18,38,1,1,1,1,1,1,11,1,6,6,2,1,1,4,6,2,8,11,1,8,2,5,3,2,6,3,1,1,1,1,1,1,50,2,1,1,1,18,2,3,1,1,1,2,1,22,4,2,5,6,2,3,3,5,2,1,1,1,1,2,50,4,1,31,11,1,2,6,2,1,10,1,1,1,3,24,1,1,1,5,2,2,33,1,2,1,1,1,1,12,1,1,1,3,6,17,50,18,19,1,13,1,1,1,5,1,4,1,4,1,3,1,6,1,5,2,1,1,1,1,26,3,14,2,3,3,1,1,3,3,12,1,1,22,1,3,1,3,19,3,1,1,1,4,9,4,1,1,30,3,2,3,2,1,2,1,1,1,1,1,4,1,4,2,1,7,2,3,1,4,4,5,2,1,1,6,13,3,3,2,1,3,1,1,1,10,3,6,8,6,4,50,17,14,1,2,2,2,3,1,1,2,2,1,3,1,1,4,11,11,13,2,1,8,1,1,1,3,1,2,1,4,1,1,6,2,2,1,5,36,10,4,1,1,3,11,17,1,30,13,7,1,2,1,1,1,2,6,2,2,5,1,1,5,1,14,1,1,2,12,1,1,1,5,1,1,4,1,7,1,2,3,2,1,2,12,2,4,3,1,8,2,6,1,2,2,5,1,5,1,1,1,5,1,1,1,1,1,1,16,9,3,7,3,14,4,1,1,5,1,1,2,4,2,14,4,1,1,5,2,10,10,1,11,1,50,7,2,4,28,3,17,1,2,50,1,1,1,15,1,4,13,5,1,4,6,1,1,2,1,1,3,50,1,1,1,3,1,44,5,1,1,2,2,1,9,6,2,2,26,1,2,4,12,1,1,2,5,7,6,1,1,4,1,1,45,1,4,2,1,29,1,1,1,7,1,1,1,4,1,1,1,50,7,1,6,1,1,1,1,5,1,3,2,1,3,1,1,2,2,1,1,2,3,1,1,1,1,1,7,6,1,4,3,1,7,8,1,2,9,4,3,4,9,3,2,1,7,1,1,3,1,1,1,5,13,4,2,1,1,3,7,1,7,1,37,1,6,1,1,1,1,3,6,1,1,1,1,6,1,10,26,2,1,1,2,1,2,2,6,1,4,2,23,1,1,2,1,17,1,2,2,6,3,2,1,5,1,1,1,1,1,19,1,1,1,1,2,3,4,2,5,1,1,1,1,1,1,50,4,40,7,2,1,3,1,2,5,9,1,5,2,17,2,6,1,1,1,1,1,1,2,1,1,1,1,1,1,4,4,1,1,2,3,1,5,4,2,3,1,1,2,1,2,3,50,3,1,3,3,6,8,2,1,1,1,1,2,3,2,1,2,2,1,1,20,7,4,1,4,2,4,3,2,1,1,1,4,3,1,1,1,3,1,2,1,1,10,1,33,3,2,3,2,30,1,6,1,1,1,1,1,1,1,3,1,4,1,2,2,1,12,29,6,1,5,1,1,2,4,4,1,3,2,4,4,1,4,1,2,1,1,1,8,1,1,2,2,1,3,3,12,42,2,1,6,5,1,1,2,2,1,2,2,1,1,1,4,1,6,16,50,5,1,2,1,8,1,4,6,2,1,4,12,1,1,3,5,1,4,1,1,7,1,1,9,26,2,1,2,1,2,1,1,1,4,2,1,1,6,2,1,2,4,43,17,14,2,1,1,1,2,1,1,1,6,1,2,1,1,4,1,1,2,1,1,5,2,10,1,3,1,1,2,1,1,4,3,1,18,1,2,1,2,5,23,11,34,1,1,6,5,2,3,1,1,33,40,21,1,1,11,1,1,1,2,1,4,1,1,3,4,1,7,1,2,22,13,2,2,3,1,1,4,6,4,1,1,1,1,6,8,1,1,1,1,1,1,8,1,1,2,1,1,1,1,8,2,1,1,2,2,1,1,19,1,1,6,1,1,1,8,10,1,1,1,5,4,1,1,8,5,2,7,1,2,12,1,1,5,2,3,8,4,1,1,1,5,3,1,2,1,3,4,24,2,6,1,1,4,9,1,4,2,6,2,1,1,1,5,8,1,4,5,6,14,6,6,9,1,3,2,1,1,5,1,3,1,8,4,1,1,10,21,1,1,1,12,1,3,1,1,6,28,2,4,3,12,1,10,1,1,8,9,2,3,1,1,1,11,4,1,1,1,1,1,1,34,15,22,14,2,1,2,1,1,3,1,9,3,2,24,3,15,6,1,1,1,1,1,2,3,1,1,1,1,3,1,1,2,1,1,1,1,1,1,1,3,1,2,1,1,8,16,1,46,1,5,1,5,9,2,3,13,1,1,6,1,1,3,2,1,1,1,5,5,1,9,3,2,6,3,1,1,7,2,3,1,4,2,2,1,7,1,15,1,2,2,1,5,3,2,1,1,1,2,1,1,1,1,1,1,1,2,4,1,38,1,48,7,26,1,1,1,1,2,9,5,16,2,1,1,1,4,1,1,1,1,1,1,3,2,2,1,2,1,2,1,1,1,1,1,27,2,2,10,1,1,1,1,1,4,1,5,1,1,1,1,1,1,1,1,1,3,1,1,1,3,2,2,1,1,5,8,2,1,3,1,14,4,1,1,1,4,2,1,3,6,13,2,1,1,1,3,7,1,3,2,2,1,7,6,1,1,1,4,13,5,1,3,16,2,1,1,1,2,26,1,6,2,1,1,2,1,1,13,1,2,1,2,5,3,3,1,1,1,10,1,3,1,1,1,1,20,1,5,1,2,1,3,1,1,1,1,1,1,4,3,9,1,1,1,1,1,1,1,24,6,1,1,3,1,1,2,2,2,2,4,1,1,2,1,7,1,2,20,2,1,2,1,1,1,4,10,1,3,1,14,6,1,1,4,1,1,2,1,1,2,5,1,1,19,9,1,1,1,1,1,1,2,2,1,14,1,1,1,2,1,4,4,1,1,19,22,9,2,22,2,1,1,3,2,2,5,1,7,1,1,1,5,1,2,1,1,1,1,8,1,1,1,2,1,1,1,1,25,1,1,1,1,1,11,1,1,7,1,1,1,1,8,44,4,4,6,1,1,1,1,1,1,1,2,1,1,1,1,1,1,1,4,1,2,1,1,3,1,1,1,1,1,1,1,1,2,1,2,2,1,1,1,1,1,1,8,1,1,2,4,1,1,1,4,3,3,2,1,2,1,2,1,1,4,4,1,3,1,5,2,5,1,2,3,3,2,1,15,1,3,1,1,1,3,12,21,1,5,1,1,1,1,1,4,20,3,1,1,1,4,2,2,1,1,4,3,5,10,1,6,1,11,3,1,2,7,1,1,16,4,16,14,2,2,8,3,10,3,3,2,1,2,1,1,4,3,1,1,4,1,1,6,2,5,1,1,1,3,2,1,3,1,1,1,1,1,2,2,3,5,1,1,4,2,1,1,1,1,15,1,1,1,1,1,1,1,1,1,1,29,2,10,1,1,11,3,2,1,1,4,2,5,2,1,1,2,1,1,10,1,2,1,2,3,1,1,12,2,11,1,1,1,2,11,21,1,1,1,1,2,3,1,1,6,2,1,1,1,26,22,3,1,1,5,12,1,8,29,1,1,1,1,16,7,25,1,1,4,1,2,8,1,9,1,7,1,1,1,1,1,1,1,1,3,1,1,3,1,1,1,1,2,3,11,1,1,1,1,1,1,3,1,1,1,1,3,4,1,1,3,13,6,1,5,4,1,1,1,1,4,1,1,1,1,1,1,1,35,1,43,1,6,5,1,1,1,1,6,3,1,2,2,1,17,1,6,1,1,1,1,1,1,3,6,1,3,1,1,2,9,1,1,2,1,1,1,1,2,4,1,1,7,24,7,2,6,1,3,3,5,1,6,1,1,3,26,7,2,1,6,1,1,1,1,1,8,5,8,15,1,7,1,1,5,1,3,1,2,1,6,28,25,1,1,8,1,1,1,1,1,1,2,2,2,1,37,1,2,1,2,2,1,1,1,1,2,1,2,3,3,1,3,1,1,1,1,2,3,1,3,3,1,3,1,3,4,1,1,7,1,2,1,1,2,2,9,2,1,1,1,1,1,1,5,4,1,10,1,3,1,8,2,2,1,1,13,21,1,1,2,26,1,2,1,1,1,3,1,2,1,1,1,2,32,3,10,1,1,1,3,1,3,1,1,1,1,12,2,1,2,1,1,9,3,1,1,1,3,1,1,1,1,1,1,1,1,10,1,1,1,1,1,3,2,2,4,1,6,13,2,1,1,6,1,2,1,7,1,1,1,1,1,6,1,1,1,31,29,1,3,13,17,6,18,7,3,1,1,1,1,1,1,1,1,1,1,1,1,1,1,1,3,4,1,1,1,1,4,3,1,1,1,1,8,2,2,1,1,1,1,1,1,1,1,1,3,1,2,1,1,1,1,1,2,1,1,1,1,2,1,2,3,2,1,1,1,1,2,1,1,1,1,1,4,1,1,1,3,1,7,1,1,2,1,1,1,1,1,1,6,1,1,1,2,1,1,1,1,6,1,1,2,1,1,1,1,25,1,6,1,5,5,1,1,1,24,1,2,4,2,1,1,1,2,1,3,1,1,2,2,3,5,2,1,4,1,1,1,1,2,1,4,1,1,1,1,1,8,3,1,1,4,7,1,2,1,1,1,1,1,1,12,1,1,2,7,2,1,1,4,1,5,1,1,1,3,1,3,3,1,1,1,1,1,1,1,1,1,1,1,1,1,1,1,1,3,1,1,1,1,1,1,1,1,1,1,1,1,1,1,1,2,9,1,1,2,1,1,1,3,1,1,1,1,1,1,1,1,1,1,1,2,1,1,1,1,6,1,1,1,1,1,1,1,1,1,1,10,1,1,1,1,2,3,3,1,1,1,1,1,1,1,3,1,1,1,1,1,1,5,1,9,1,1,1,1,1,1,1,1,1,2,2,1,1,3,1,1,2,1,1,1,2,1,1,1,2,1,1,1,2,1,2,1,1,1,1,1,1,1,1,1,1,1,1,1,1,1],\"xbins\":{\"end\":51,\"size\":2,\"start\":1},\"type\":\"histogram\"}],                        {\"bargap\":0.2,\"title\":{\"text\":\"Distribuci\\u00f3n de n\\u00famero de valoraciones por pel\\u00edcula\"},\"xaxis\":{\"title\":{\"text\":\"N\\u00famero de valoraciones por pel\\u00edcula\"}},\"yaxis\":{\"title\":{\"text\":\"Recuento\"}},\"template\":{\"data\":{\"histogram2dcontour\":[{\"type\":\"histogram2dcontour\",\"colorbar\":{\"outlinewidth\":0,\"ticks\":\"\"},\"colorscale\":[[0.0,\"#0d0887\"],[0.1111111111111111,\"#46039f\"],[0.2222222222222222,\"#7201a8\"],[0.3333333333333333,\"#9c179e\"],[0.4444444444444444,\"#bd3786\"],[0.5555555555555556,\"#d8576b\"],[0.6666666666666666,\"#ed7953\"],[0.7777777777777778,\"#fb9f3a\"],[0.8888888888888888,\"#fdca26\"],[1.0,\"#f0f921\"]]}],\"choropleth\":[{\"type\":\"choropleth\",\"colorbar\":{\"outlinewidth\":0,\"ticks\":\"\"}}],\"histogram2d\":[{\"type\":\"histogram2d\",\"colorbar\":{\"outlinewidth\":0,\"ticks\":\"\"},\"colorscale\":[[0.0,\"#0d0887\"],[0.1111111111111111,\"#46039f\"],[0.2222222222222222,\"#7201a8\"],[0.3333333333333333,\"#9c179e\"],[0.4444444444444444,\"#bd3786\"],[0.5555555555555556,\"#d8576b\"],[0.6666666666666666,\"#ed7953\"],[0.7777777777777778,\"#fb9f3a\"],[0.8888888888888888,\"#fdca26\"],[1.0,\"#f0f921\"]]}],\"heatmap\":[{\"type\":\"heatmap\",\"colorbar\":{\"outlinewidth\":0,\"ticks\":\"\"},\"colorscale\":[[0.0,\"#0d0887\"],[0.1111111111111111,\"#46039f\"],[0.2222222222222222,\"#7201a8\"],[0.3333333333333333,\"#9c179e\"],[0.4444444444444444,\"#bd3786\"],[0.5555555555555556,\"#d8576b\"],[0.6666666666666666,\"#ed7953\"],[0.7777777777777778,\"#fb9f3a\"],[0.8888888888888888,\"#fdca26\"],[1.0,\"#f0f921\"]]}],\"heatmapgl\":[{\"type\":\"heatmapgl\",\"colorbar\":{\"outlinewidth\":0,\"ticks\":\"\"},\"colorscale\":[[0.0,\"#0d0887\"],[0.1111111111111111,\"#46039f\"],[0.2222222222222222,\"#7201a8\"],[0.3333333333333333,\"#9c179e\"],[0.4444444444444444,\"#bd3786\"],[0.5555555555555556,\"#d8576b\"],[0.6666666666666666,\"#ed7953\"],[0.7777777777777778,\"#fb9f3a\"],[0.8888888888888888,\"#fdca26\"],[1.0,\"#f0f921\"]]}],\"contourcarpet\":[{\"type\":\"contourcarpet\",\"colorbar\":{\"outlinewidth\":0,\"ticks\":\"\"}}],\"contour\":[{\"type\":\"contour\",\"colorbar\":{\"outlinewidth\":0,\"ticks\":\"\"},\"colorscale\":[[0.0,\"#0d0887\"],[0.1111111111111111,\"#46039f\"],[0.2222222222222222,\"#7201a8\"],[0.3333333333333333,\"#9c179e\"],[0.4444444444444444,\"#bd3786\"],[0.5555555555555556,\"#d8576b\"],[0.6666666666666666,\"#ed7953\"],[0.7777777777777778,\"#fb9f3a\"],[0.8888888888888888,\"#fdca26\"],[1.0,\"#f0f921\"]]}],\"surface\":[{\"type\":\"surface\",\"colorbar\":{\"outlinewidth\":0,\"ticks\":\"\"},\"colorscale\":[[0.0,\"#0d0887\"],[0.1111111111111111,\"#46039f\"],[0.2222222222222222,\"#7201a8\"],[0.3333333333333333,\"#9c179e\"],[0.4444444444444444,\"#bd3786\"],[0.5555555555555556,\"#d8576b\"],[0.6666666666666666,\"#ed7953\"],[0.7777777777777778,\"#fb9f3a\"],[0.8888888888888888,\"#fdca26\"],[1.0,\"#f0f921\"]]}],\"mesh3d\":[{\"type\":\"mesh3d\",\"colorbar\":{\"outlinewidth\":0,\"ticks\":\"\"}}],\"scatter\":[{\"fillpattern\":{\"fillmode\":\"overlay\",\"size\":10,\"solidity\":0.2},\"type\":\"scatter\"}],\"parcoords\":[{\"type\":\"parcoords\",\"line\":{\"colorbar\":{\"outlinewidth\":0,\"ticks\":\"\"}}}],\"scatterpolargl\":[{\"type\":\"scatterpolargl\",\"marker\":{\"colorbar\":{\"outlinewidth\":0,\"ticks\":\"\"}}}],\"bar\":[{\"error_x\":{\"color\":\"#2a3f5f\"},\"error_y\":{\"color\":\"#2a3f5f\"},\"marker\":{\"line\":{\"color\":\"#E5ECF6\",\"width\":0.5},\"pattern\":{\"fillmode\":\"overlay\",\"size\":10,\"solidity\":0.2}},\"type\":\"bar\"}],\"scattergeo\":[{\"type\":\"scattergeo\",\"marker\":{\"colorbar\":{\"outlinewidth\":0,\"ticks\":\"\"}}}],\"scatterpolar\":[{\"type\":\"scatterpolar\",\"marker\":{\"colorbar\":{\"outlinewidth\":0,\"ticks\":\"\"}}}],\"histogram\":[{\"marker\":{\"pattern\":{\"fillmode\":\"overlay\",\"size\":10,\"solidity\":0.2}},\"type\":\"histogram\"}],\"scattergl\":[{\"type\":\"scattergl\",\"marker\":{\"colorbar\":{\"outlinewidth\":0,\"ticks\":\"\"}}}],\"scatter3d\":[{\"type\":\"scatter3d\",\"line\":{\"colorbar\":{\"outlinewidth\":0,\"ticks\":\"\"}},\"marker\":{\"colorbar\":{\"outlinewidth\":0,\"ticks\":\"\"}}}],\"scattermapbox\":[{\"type\":\"scattermapbox\",\"marker\":{\"colorbar\":{\"outlinewidth\":0,\"ticks\":\"\"}}}],\"scatterternary\":[{\"type\":\"scatterternary\",\"marker\":{\"colorbar\":{\"outlinewidth\":0,\"ticks\":\"\"}}}],\"scattercarpet\":[{\"type\":\"scattercarpet\",\"marker\":{\"colorbar\":{\"outlinewidth\":0,\"ticks\":\"\"}}}],\"carpet\":[{\"aaxis\":{\"endlinecolor\":\"#2a3f5f\",\"gridcolor\":\"white\",\"linecolor\":\"white\",\"minorgridcolor\":\"white\",\"startlinecolor\":\"#2a3f5f\"},\"baxis\":{\"endlinecolor\":\"#2a3f5f\",\"gridcolor\":\"white\",\"linecolor\":\"white\",\"minorgridcolor\":\"white\",\"startlinecolor\":\"#2a3f5f\"},\"type\":\"carpet\"}],\"table\":[{\"cells\":{\"fill\":{\"color\":\"#EBF0F8\"},\"line\":{\"color\":\"white\"}},\"header\":{\"fill\":{\"color\":\"#C8D4E3\"},\"line\":{\"color\":\"white\"}},\"type\":\"table\"}],\"barpolar\":[{\"marker\":{\"line\":{\"color\":\"#E5ECF6\",\"width\":0.5},\"pattern\":{\"fillmode\":\"overlay\",\"size\":10,\"solidity\":0.2}},\"type\":\"barpolar\"}],\"pie\":[{\"automargin\":true,\"type\":\"pie\"}]},\"layout\":{\"autotypenumbers\":\"strict\",\"colorway\":[\"#636efa\",\"#EF553B\",\"#00cc96\",\"#ab63fa\",\"#FFA15A\",\"#19d3f3\",\"#FF6692\",\"#B6E880\",\"#FF97FF\",\"#FECB52\"],\"font\":{\"color\":\"#2a3f5f\"},\"hovermode\":\"closest\",\"hoverlabel\":{\"align\":\"left\"},\"paper_bgcolor\":\"white\",\"plot_bgcolor\":\"#E5ECF6\",\"polar\":{\"bgcolor\":\"#E5ECF6\",\"angularaxis\":{\"gridcolor\":\"white\",\"linecolor\":\"white\",\"ticks\":\"\"},\"radialaxis\":{\"gridcolor\":\"white\",\"linecolor\":\"white\",\"ticks\":\"\"}},\"ternary\":{\"bgcolor\":\"#E5ECF6\",\"aaxis\":{\"gridcolor\":\"white\",\"linecolor\":\"white\",\"ticks\":\"\"},\"baxis\":{\"gridcolor\":\"white\",\"linecolor\":\"white\",\"ticks\":\"\"},\"caxis\":{\"gridcolor\":\"white\",\"linecolor\":\"white\",\"ticks\":\"\"}},\"coloraxis\":{\"colorbar\":{\"outlinewidth\":0,\"ticks\":\"\"}},\"colorscale\":{\"sequential\":[[0.0,\"#0d0887\"],[0.1111111111111111,\"#46039f\"],[0.2222222222222222,\"#7201a8\"],[0.3333333333333333,\"#9c179e\"],[0.4444444444444444,\"#bd3786\"],[0.5555555555555556,\"#d8576b\"],[0.6666666666666666,\"#ed7953\"],[0.7777777777777778,\"#fb9f3a\"],[0.8888888888888888,\"#fdca26\"],[1.0,\"#f0f921\"]],\"sequentialminus\":[[0.0,\"#0d0887\"],[0.1111111111111111,\"#46039f\"],[0.2222222222222222,\"#7201a8\"],[0.3333333333333333,\"#9c179e\"],[0.4444444444444444,\"#bd3786\"],[0.5555555555555556,\"#d8576b\"],[0.6666666666666666,\"#ed7953\"],[0.7777777777777778,\"#fb9f3a\"],[0.8888888888888888,\"#fdca26\"],[1.0,\"#f0f921\"]],\"diverging\":[[0,\"#8e0152\"],[0.1,\"#c51b7d\"],[0.2,\"#de77ae\"],[0.3,\"#f1b6da\"],[0.4,\"#fde0ef\"],[0.5,\"#f7f7f7\"],[0.6,\"#e6f5d0\"],[0.7,\"#b8e186\"],[0.8,\"#7fbc41\"],[0.9,\"#4d9221\"],[1,\"#276419\"]]},\"xaxis\":{\"gridcolor\":\"white\",\"linecolor\":\"white\",\"ticks\":\"\",\"title\":{\"standoff\":15},\"zerolinecolor\":\"white\",\"automargin\":true,\"zerolinewidth\":2},\"yaxis\":{\"gridcolor\":\"white\",\"linecolor\":\"white\",\"ticks\":\"\",\"title\":{\"standoff\":15},\"zerolinecolor\":\"white\",\"automargin\":true,\"zerolinewidth\":2},\"scene\":{\"xaxis\":{\"backgroundcolor\":\"#E5ECF6\",\"gridcolor\":\"white\",\"linecolor\":\"white\",\"showbackground\":true,\"ticks\":\"\",\"zerolinecolor\":\"white\",\"gridwidth\":2},\"yaxis\":{\"backgroundcolor\":\"#E5ECF6\",\"gridcolor\":\"white\",\"linecolor\":\"white\",\"showbackground\":true,\"ticks\":\"\",\"zerolinecolor\":\"white\",\"gridwidth\":2},\"zaxis\":{\"backgroundcolor\":\"#E5ECF6\",\"gridcolor\":\"white\",\"linecolor\":\"white\",\"showbackground\":true,\"ticks\":\"\",\"zerolinecolor\":\"white\",\"gridwidth\":2}},\"shapedefaults\":{\"line\":{\"color\":\"#2a3f5f\"}},\"annotationdefaults\":{\"arrowcolor\":\"#2a3f5f\",\"arrowhead\":0,\"arrowwidth\":1},\"geo\":{\"bgcolor\":\"white\",\"landcolor\":\"#E5ECF6\",\"subunitcolor\":\"white\",\"showland\":true,\"showlakes\":true,\"lakecolor\":\"white\"},\"title\":{\"x\":0.05},\"mapbox\":{\"style\":\"light\"}}}},                        {\"responsive\": true}                    ).then(function(){\n",
              "                            \n",
              "var gd = document.getElementById('ca9af666-517b-47c9-8dd1-258cb0601a56');\n",
              "var x = new MutationObserver(function (mutations, observer) {{\n",
              "        var display = window.getComputedStyle(gd).display;\n",
              "        if (!display || display === 'none') {{\n",
              "            console.log([gd, 'removed!']);\n",
              "            Plotly.purge(gd);\n",
              "            observer.disconnect();\n",
              "        }}\n",
              "}});\n",
              "\n",
              "// Listen for the removal of the full notebook cells\n",
              "var notebookContainer = gd.closest('#notebook-container');\n",
              "if (notebookContainer) {{\n",
              "    x.observe(notebookContainer, {childList: true});\n",
              "}}\n",
              "\n",
              "// Listen for the clearing of the current output cell\n",
              "var outputEl = gd.closest('.output');\n",
              "if (outputEl) {{\n",
              "    x.observe(outputEl, {childList: true});\n",
              "}}\n",
              "\n",
              "                        })                };                            </script>        </div>\n",
              "</body>\n",
              "</html>"
            ]
          },
          "metadata": {}
        },
        {
          "output_type": "stream",
          "name": "stdout",
          "text": [
            "Recuento Película-Puntuación (Top 10)\n",
            "      movieId  rating\n",
            "321       356     341\n",
            "266       296     324\n",
            "284       318     311\n",
            "525       593     304\n",
            "232       260     291\n",
            "427       480     274\n",
            "2062     2571     259\n",
            "0           1     247\n",
            "472       527     244\n",
            "522       589     237\n",
            "Número de películas: 9066\n"
          ]
        }
      ]
    },
    {
      "cell_type": "markdown",
      "source": [
        "Que distribucion de calificaciones tiene cada pelicula ?\n",
        " - El 47% (4265)  de peliculas tienen entre 1 y 2 calificaciones \n",
        " - El 53% del total de peliculas tienen mas de 3 calificaciones\n",
        "  "
      ],
      "metadata": {
        "id": "wtTEO_yqbX-s"
      }
    },
    {
      "cell_type": "code",
      "source": [
        "#Users which gave more than 50 ratings, will be cut off to 50\n",
        "data = ratings.groupby('userId')['rating'].count().clip(upper=50)\n",
        "\n",
        "# Create the trace data\n",
        "trace = go.Histogram(x = data.values,\n",
        "                     name = 'Valoraciones',\n",
        "                     xbins = dict(start = 0,\n",
        "                                  end = 51,\n",
        "                                  size = 2))\n",
        "# Create figure layout\n",
        "layout = go.Layout(title = 'Distribución de número de valoraciones por usuario (Límite de 50)',\n",
        "                   xaxis = dict(title = 'Valoraciones por usuario'),\n",
        "                   yaxis = dict(title = 'Recuento'),\n",
        "                   bargap = 0.2)\n",
        "\n",
        "# Create plot with data and layout\n",
        "fig = go.Figure(data=[trace], layout=layout)\n",
        "#iplot(fig)\n",
        "fig.show(renderer='colab')\n",
        "\n",
        "\n",
        "print(\"Recuento Usuario-Puntuación (Top 10)\")\n",
        "user_ratings_count = ratings.groupby('userId')['rating'].count().reset_index().sort_values('rating', ascending=False)[:10]\n",
        "print(user_ratings_count)\n",
        "\n",
        "print(\"Número de usuarios: %s\" % ratings.groupby('userId')['rating'].count().shape[0])"
      ],
      "metadata": {
        "id": "rNdn_ozkjWSW"
      },
      "execution_count": null,
      "outputs": []
    },
    {
      "cell_type": "markdown",
      "source": [
        "Que distribucion de calificaciones tiene cada usuario ?\n",
        " - El histograma muestra que la mayoria de usuarios (427 osea un  63% del total 671) \n",
        " tienen 50 o mas calificaciones"
      ],
      "metadata": {
        "id": "ZnIatiydQTnh"
      }
    },
    {
      "cell_type": "markdown",
      "source": [
        "# **Limpiando Dataset y seleccionando datos**"
      ],
      "metadata": {
        "id": "HmMlGPKelV9C"
      }
    },
    {
      "cell_type": "code",
      "source": [
        "print(\"==============\"*8)\n",
        "print(\"MOVIES\")\n",
        "print(\"==============\"*8)\n",
        "movies.info()\n",
        "print(\"==============\"*8)\n",
        "print(\"RATINGS\")\n",
        "print(\"==============\"*8)\n",
        "ratings.info()\n",
        "print(\"==============\"*8)\n",
        "print(\"LINKS\")\n",
        "print(\"==============\"*8)\n",
        "links.info()"
      ],
      "metadata": {
        "colab": {
          "base_uri": "https://localhost:8080/"
        },
        "id": "e3jw2Pb1lbHC",
        "outputId": "4f8b2a51-2b5e-4f9f-cf57-d4ad620570d5"
      },
      "execution_count": null,
      "outputs": [
        {
          "output_type": "stream",
          "name": "stdout",
          "text": [
            "================================================================================================================\n",
            "MOVIES\n",
            "================================================================================================================\n",
            "<class 'pandas.core.frame.DataFrame'>\n",
            "RangeIndex: 45466 entries, 0 to 45465\n",
            "Data columns (total 24 columns):\n",
            " #   Column                 Non-Null Count  Dtype  \n",
            "---  ------                 --------------  -----  \n",
            " 0   adult                  45466 non-null  object \n",
            " 1   belongs_to_collection  4494 non-null   object \n",
            " 2   budget                 45466 non-null  object \n",
            " 3   genres                 45466 non-null  object \n",
            " 4   homepage               7782 non-null   object \n",
            " 5   id                     45466 non-null  object \n",
            " 6   imdb_id                45449 non-null  object \n",
            " 7   original_language      45455 non-null  object \n",
            " 8   original_title         45466 non-null  object \n",
            " 9   overview               44512 non-null  object \n",
            " 10  popularity             45461 non-null  object \n",
            " 11  poster_path            45080 non-null  object \n",
            " 12  production_companies   45463 non-null  object \n",
            " 13  production_countries   45463 non-null  object \n",
            " 14  release_date           45379 non-null  object \n",
            " 15  revenue                45460 non-null  float64\n",
            " 16  runtime                45203 non-null  float64\n",
            " 17  spoken_languages       45460 non-null  object \n",
            " 18  status                 45379 non-null  object \n",
            " 19  tagline                20412 non-null  object \n",
            " 20  title                  45460 non-null  object \n",
            " 21  video                  45460 non-null  object \n",
            " 22  vote_average           45460 non-null  float64\n",
            " 23  vote_count             45460 non-null  float64\n",
            "dtypes: float64(4), object(20)\n",
            "memory usage: 8.3+ MB\n",
            "================================================================================================================\n",
            "RATINGS\n",
            "================================================================================================================\n",
            "<class 'pandas.core.frame.DataFrame'>\n",
            "RangeIndex: 100004 entries, 0 to 100003\n",
            "Data columns (total 4 columns):\n",
            " #   Column     Non-Null Count   Dtype  \n",
            "---  ------     --------------   -----  \n",
            " 0   userId     100004 non-null  int64  \n",
            " 1   movieId    100004 non-null  int64  \n",
            " 2   rating     100004 non-null  float64\n",
            " 3   timestamp  100004 non-null  int64  \n",
            "dtypes: float64(1), int64(3)\n",
            "memory usage: 3.1 MB\n",
            "================================================================================================================\n",
            "LINKS\n",
            "================================================================================================================\n",
            "<class 'pandas.core.frame.DataFrame'>\n",
            "RangeIndex: 45843 entries, 0 to 45842\n",
            "Data columns (total 3 columns):\n",
            " #   Column   Non-Null Count  Dtype  \n",
            "---  ------   --------------  -----  \n",
            " 0   movieId  45843 non-null  int64  \n",
            " 1   imdbId   45843 non-null  int64  \n",
            " 2   tmdbId   45624 non-null  float64\n",
            "dtypes: float64(1), int64(2)\n",
            "memory usage: 1.0 MB\n"
          ]
        }
      ]
    },
    {
      "cell_type": "markdown",
      "source": [
        "La relacion entre los archivos del dataset es : \n",
        "\n",
        "Ratings (movieId) -> Links(movieId)\n",
        "\n",
        "Links(tmbdId)->Movies(id)\n",
        "\n",
        "se observa que la columna Movies-id es tipo object , asi que se debe convertir a tipo Int64 para poder hacer efectiva la relacion entre Links-Movies \n"
      ],
      "metadata": {
        "id": "zXZhX0G18tF6"
      }
    },
    {
      "cell_type": "code",
      "source": [
        "movies[\"id\"] =  pd.to_numeric(movies[\"id\"],errors='coerce').astype('Int64')\n",
        "movies.info()"
      ],
      "metadata": {
        "colab": {
          "base_uri": "https://localhost:8080/"
        },
        "id": "MsHlYKlK9jYG",
        "outputId": "ddeeea9d-9396-4e11-de46-573663d77b97"
      },
      "execution_count": null,
      "outputs": [
        {
          "output_type": "stream",
          "name": "stdout",
          "text": [
            "<class 'pandas.core.frame.DataFrame'>\n",
            "RangeIndex: 45466 entries, 0 to 45465\n",
            "Data columns (total 24 columns):\n",
            " #   Column                 Non-Null Count  Dtype  \n",
            "---  ------                 --------------  -----  \n",
            " 0   adult                  45466 non-null  object \n",
            " 1   belongs_to_collection  4494 non-null   object \n",
            " 2   budget                 45466 non-null  object \n",
            " 3   genres                 45466 non-null  object \n",
            " 4   homepage               7782 non-null   object \n",
            " 5   id                     45463 non-null  Int64  \n",
            " 6   imdb_id                45449 non-null  object \n",
            " 7   original_language      45455 non-null  object \n",
            " 8   original_title         45466 non-null  object \n",
            " 9   overview               44512 non-null  object \n",
            " 10  popularity             45461 non-null  object \n",
            " 11  poster_path            45080 non-null  object \n",
            " 12  production_companies   45463 non-null  object \n",
            " 13  production_countries   45463 non-null  object \n",
            " 14  release_date           45379 non-null  object \n",
            " 15  revenue                45460 non-null  float64\n",
            " 16  runtime                45203 non-null  float64\n",
            " 17  spoken_languages       45460 non-null  object \n",
            " 18  status                 45379 non-null  object \n",
            " 19  tagline                20412 non-null  object \n",
            " 20  title                  45460 non-null  object \n",
            " 21  video                  45460 non-null  object \n",
            " 22  vote_average           45460 non-null  float64\n",
            " 23  vote_count             45460 non-null  float64\n",
            "dtypes: Int64(1), float64(4), object(19)\n",
            "memory usage: 8.4+ MB\n"
          ]
        }
      ]
    },
    {
      "cell_type": "markdown",
      "source": [
        "Para tener un dataset mas limpio , se analizan duplicados , registros faltantes entre las relaciones y datos vacios "
      ],
      "metadata": {
        "id": "2ykiwswv9q-N"
      }
    },
    {
      "cell_type": "code",
      "source": [
        "movies_duplicated = movies.groupby(['id']).size()\n",
        "print(\"Peliculas duplicadas : \",movies_duplicated[movies_duplicated>1].shape[0])\n",
        "\n",
        "ratings_duplicated = ratings.groupby(['userId','movieId']).size()\n",
        "print(\"Reviews duplicadas : \",ratings_duplicated[ratings_duplicated>1].shape[0])\n",
        "\n",
        "links_duplicated = links.groupby(['movieId','tmdbId']).size()\n",
        "print(\"Links duplicadas : \",links_duplicated[links_duplicated>1].shape[0])"
      ],
      "metadata": {
        "colab": {
          "base_uri": "https://localhost:8080/"
        },
        "id": "QbALaIVVDlVL",
        "outputId": "c23ee397-3f75-4bc6-e647-fa7516fb2531"
      },
      "execution_count": null,
      "outputs": [
        {
          "output_type": "stream",
          "name": "stdout",
          "text": [
            "Peliculas duplicadas :  29\n",
            "Reviews duplicadas :  0\n",
            "Links duplicadas :  0\n"
          ]
        }
      ]
    },
    {
      "cell_type": "code",
      "source": [
        "#Eliminando peliculas duplicadas \n",
        "print(\"cantidad de peliculas antes de eliminar duplicados :\",movies.shape[0])\n",
        "movies = movies.drop_duplicates([\"id\"])\n",
        "print(\"cantidad de peliculas despues de eliminar duplicados :\",movies.shape[0])"
      ],
      "metadata": {
        "id": "5IuRTuWBD8FE"
      },
      "execution_count": null,
      "outputs": []
    },
    {
      "cell_type": "code",
      "source": [
        "#moviesId que existen en ratings pero no en links\n",
        "ratings_movies_missed =  ratings[~ratings[\"movieId\"].isin(links[\"movieId\"])]\n",
        "ratings_movies_missed.nunique(axis=0)"
      ],
      "metadata": {
        "colab": {
          "base_uri": "https://localhost:8080/"
        },
        "id": "qqGiB6ev9qYk",
        "outputId": "9d751562-8766-4c1b-9026-4f45723e422a"
      },
      "execution_count": null,
      "outputs": [
        {
          "output_type": "execute_result",
          "data": {
            "text/plain": [
              "userId       32\n",
              "movieId       8\n",
              "rating        8\n",
              "timestamp    45\n",
              "dtype: int64"
            ]
          },
          "metadata": {},
          "execution_count": 86
        }
      ]
    },
    {
      "cell_type": "code",
      "source": [
        "#Id que existen en links pero no en movies\n",
        "links_movie_missed = links[~links[\"tmdbId\"].isin(movies[\"id\"])]\n",
        "links_movie_missed.nunique()"
      ],
      "metadata": {
        "colab": {
          "base_uri": "https://localhost:8080/"
        },
        "id": "RWw8VtaK-DWt",
        "outputId": "4f348425-d3ed-4997-9247-ba41a62f0e15"
      },
      "execution_count": null,
      "outputs": [
        {
          "output_type": "execute_result",
          "data": {
            "text/plain": [
              "movieId    380\n",
              "imdbId     380\n",
              "tmdbId     161\n",
              "dtype: int64"
            ]
          },
          "metadata": {},
          "execution_count": 89
        }
      ]
    },
    {
      "cell_type": "code",
      "source": [
        "#Ratings que deben ser descartados ya que no existen peliculas en Movies asociados al movieId en ratings\n",
        "ratings_missed = ratings[ratings[\"movieId\"].isin(links_movie_missed['movieId'])]\n",
        "ratings_missed.shape"
      ],
      "metadata": {
        "colab": {
          "base_uri": "https://localhost:8080/"
        },
        "id": "0SGpO8DN-PCL",
        "outputId": "36626c71-17c8-4326-935d-b3a06b101718"
      },
      "execution_count": null,
      "outputs": [
        {
          "output_type": "execute_result",
          "data": {
            "text/plain": [
              "(148, 4)"
            ]
          },
          "metadata": {},
          "execution_count": 90
        }
      ]
    },
    {
      "cell_type": "code",
      "source": [
        "#Eliminacion de ratings innecesarios \n",
        "print(ratings.shape[0])\n",
        "ratings = ratings.drop(index=ratings_missed.index)\n",
        "ratings = ratings.drop(index= ratings_movies_missed.index)\n",
        "print(ratings.shape[0])"
      ],
      "metadata": {
        "colab": {
          "base_uri": "https://localhost:8080/"
        },
        "id": "0DomNQIs-vWb",
        "outputId": "c5f1437a-e93e-4cd2-fb2d-bf7dee5a8379"
      },
      "execution_count": null,
      "outputs": [
        {
          "output_type": "execute_result",
          "data": {
            "text/plain": [
              "(99810, 4)"
            ]
          },
          "metadata": {},
          "execution_count": 126
        }
      ]
    },
    {
      "cell_type": "code",
      "source": [
        "\n",
        "ratings.shape\n"
      ],
      "metadata": {
        "colab": {
          "base_uri": "https://localhost:8080/"
        },
        "id": "dwfY-Ujg_iKs",
        "outputId": "9e3ed8e0-14ee-4b00-ee3c-b56f48c17de2"
      },
      "execution_count": null,
      "outputs": [
        {
          "output_type": "execute_result",
          "data": {
            "text/plain": [
              "(100004, 4)"
            ]
          },
          "metadata": {},
          "execution_count": 125
        }
      ]
    }
  ]
}